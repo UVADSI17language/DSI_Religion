{
 "cells": [
  {
   "cell_type": "markdown",
   "metadata": {},
   "source": [
    "# Temporal Visualization"
   ]
  },
  {
   "cell_type": "markdown",
   "metadata": {},
   "source": [
    "Python 3.5"
   ]
  },
  {
   "cell_type": "code",
   "execution_count": 341,
   "metadata": {
    "collapsed": false
   },
   "outputs": [],
   "source": [
    "import pandas as pd\n",
    "import xml.etree.ElementTree as ET\n",
    "import os, sys\n",
    "import numpy as np\n",
    "import pandas as pd\n",
    "import re\n",
    "import random\n",
    "import nltk\n",
    "tokenizer = nltk.tokenize.treebank.TreebankWordTokenizer()\n",
    "import string\n",
    "import datetime\n",
    "import imp\n",
    "\n",
    "# Sklearn\n",
    "from sklearn.metrics import accuracy_score\n",
    "from sklearn.metrics import confusion_matrix\n",
    "\n",
    "# Plotting\n",
    "import matplotlib as mpl\n",
    "import matplotlib.pyplot as plt\n",
    "%matplotlib inline"
   ]
  },
  {
   "cell_type": "code",
   "execution_count": 342,
   "metadata": {
    "collapsed": false
   },
   "outputs": [],
   "source": [
    "punctuation = set(string.punctuation)"
   ]
  },
  {
   "cell_type": "code",
   "execution_count": 343,
   "metadata": {
    "collapsed": false
   },
   "outputs": [],
   "source": [
    "os.chdir('../protest_temporalAnalysis/')"
   ]
  },
  {
   "cell_type": "code",
   "execution_count": 344,
   "metadata": {
    "collapsed": false
   },
   "outputs": [],
   "source": [
    "import temporal_methods as tm"
   ]
  },
  {
   "cell_type": "code",
   "execution_count": 345,
   "metadata": {
    "collapsed": true
   },
   "outputs": [],
   "source": [
    "import imp"
   ]
  },
  {
   "cell_type": "code",
   "execution_count": 346,
   "metadata": {
    "collapsed": false
   },
   "outputs": [],
   "source": [
    "os.chdir('../prototype_python')"
   ]
  },
  {
   "cell_type": "code",
   "execution_count": 347,
   "metadata": {
    "collapsed": false
   },
   "outputs": [],
   "source": [
    "import semanticDensity as sd"
   ]
  },
  {
   "cell_type": "code",
   "execution_count": 348,
   "metadata": {
    "collapsed": false
   },
   "outputs": [],
   "source": [
    "# Import Functions to Get Metadata from File Names\n",
    "import fileData_load_functions as lf"
   ]
  },
  {
   "cell_type": "markdown",
   "metadata": {},
   "source": [
    "## -- Set up Parameters for Analysis --"
   ]
  },
  {
   "cell_type": "markdown",
   "metadata": {},
   "source": [
    "group = 'DorothyDay'\n",
    "plotstart = '1933-01-01'\n",
    "plotend = '1981-01-01'\n",
    "plotfilename = 'DorothyDay_temporal.pdf'\n",
    "saveplot = True"
   ]
  },
  {
   "cell_type": "markdown",
   "metadata": {},
   "source": [
    "group = 'WBC'\n",
    "plotstart = '2007-01-01'\n",
    "plotend = '2016-01-01'\n",
    "plotfilename = 'WBC_temporal.pdf'\n",
    "saveplot = True"
   ]
  },
  {
   "cell_type": "markdown",
   "metadata": {},
   "source": [
    "group = 'MLK'\n",
    "plotstart = '1954-01-01'\n",
    "plotend = '1969-01-01'\n",
    "plotfilename = 'MLK_temporal.pdf'\n",
    "saveplot = True"
   ]
  },
  {
   "cell_type": "code",
   "execution_count": 468,
   "metadata": {
    "collapsed": true
   },
   "outputs": [],
   "source": [
    "group = 'Ghandi'\n",
    "plotstart = '1915-01-01'\n",
    "plotend = '1949-01-01'\n",
    "plotfilename = 'Ghandi_temporal.pdf'\n",
    "saveplot = True"
   ]
  },
  {
   "cell_type": "markdown",
   "metadata": {},
   "source": [
    "### Read in Sample of News Articles"
   ]
  },
  {
   "cell_type": "code",
   "execution_count": 469,
   "metadata": {
    "collapsed": true
   },
   "outputs": [],
   "source": [
    "articleLoc = '/Volumes/Seagate Backup Plus Drive/NYT_GerberSample/news_documents.xml'"
   ]
  },
  {
   "cell_type": "code",
   "execution_count": 470,
   "metadata": {
    "collapsed": false
   },
   "outputs": [],
   "source": [
    "data = tm.parse_xml(articleLoc, 'doc', ['id','t','d','c'])"
   ]
  },
  {
   "cell_type": "code",
   "execution_count": 471,
   "metadata": {
    "collapsed": false
   },
   "outputs": [],
   "source": [
    "data.columns = ['id','title','date','content']"
   ]
  },
  {
   "cell_type": "code",
   "execution_count": 472,
   "metadata": {
    "collapsed": false
   },
   "outputs": [],
   "source": [
    "# Tokenize and Clean News Articles\n",
    "newsTokenLists = {data.loc[rowID,'id']: tokenizer.tokenize(data.loc[rowID,'content']) for rowID in range(0,len(data))}\n",
    "newsTokenLists = {data.loc[rowID,'id']: tm.clean_text(newsTokenLists[data.loc[rowID,'id']]) for rowID in range(0,len(data))}"
   ]
  },
  {
   "cell_type": "markdown",
   "metadata": {},
   "source": [
    "### Build Metadata File for Analysis Text"
   ]
  },
  {
   "cell_type": "code",
   "execution_count": 473,
   "metadata": {
    "collapsed": false
   },
   "outputs": [],
   "source": [
    "if group == 'DorothyDay':\n",
    "    dataloc = '/Users/hopeemac/Documents/Code/GIT/DSI_Religion/protest_temporalAnalysis/data_activists/DorothyDay/raw/'\n",
    "    fileData = lf.getDorothyDaymetadata(dataloc)\n",
    "    print(fileData.date_clean.min(), fileData.date_clean.max())\n",
    "    # 1933-05-01 00:00:00 1980-10-01 00:00:00"
   ]
  },
  {
   "cell_type": "code",
   "execution_count": 474,
   "metadata": {
    "collapsed": false
   },
   "outputs": [],
   "source": [
    "if group == 'WBC':\n",
    "    dataloc = '/Users/hopeemac/Documents/Code/GIT/DSI_Religion/data_dsicap/WBC/raw/'\n",
    "    fileData = lf.getWBCmetadata(dataloc)\n",
    "    print(fileData.date_clean.min(), fileData.date_clean.max())\n",
    "    # 2007-05-27 00:00:00 2015-09-20 00:00:00"
   ]
  },
  {
   "cell_type": "code",
   "execution_count": 475,
   "metadata": {
    "collapsed": false
   },
   "outputs": [],
   "source": [
    "if group == 'MLK':\n",
    "    dataloc = '/Users/hopeemac/Documents/Code/GIT/DSI_Religion/protest_temporalAnalysis/data_activists/MLK/raw/'\n",
    "    fileData = lf.getSimplemetadata(dataloc)\n",
    "    print(fileData.date_clean.min(), fileData.date_clean.max())\n",
    "    # 1954-02-28 00:00:00 1968-03-31 00:00:00"
   ]
  },
  {
   "cell_type": "code",
   "execution_count": 476,
   "metadata": {
    "collapsed": false
   },
   "outputs": [
    {
     "name": "stdout",
     "output_type": "stream",
     "text": [
      "1915-04-21 00:00:00 1948-01-12 00:00:00\n"
     ]
    }
   ],
   "source": [
    "if group == 'Ghandi':\n",
    "    dataloc = '/Users/hopeemac/Documents/Code/GIT/DSI_Religion/protest_temporalAnalysis/data_activists/Ghandi/raw/'\n",
    "    fileData = lf.getSimplemetadata(dataloc)\n",
    "    print(fileData.date_clean.min(), fileData.date_clean.max())\n",
    "    # 1915-04-21 00:00:00 1948-01-12 00:00:00"
   ]
  },
  {
   "cell_type": "code",
   "execution_count": 477,
   "metadata": {
    "collapsed": false
   },
   "outputs": [],
   "source": [
    "tokenLists = {file: tm.tokenize34(dataloc,file) for file in fileData.fileName}\n",
    "tokenLists = {file: tm.clean_text(tokenLists[file]) for file in fileData.fileName}"
   ]
  },
  {
   "cell_type": "code",
   "execution_count": 478,
   "metadata": {
    "collapsed": false
   },
   "outputs": [
    {
     "name": "stdout",
     "output_type": "stream",
     "text": [
      "[]\n"
     ]
    }
   ],
   "source": [
    "shortfiles = []\n",
    "for i in range(len(fileData)):\n",
    "    if len(set(tokenLists[fileData.loc[i,'fileName']])) < 100:\n",
    "        # print('problem'+file)\n",
    "        shortfiles.append(i)\n",
    "print(shortfiles)"
   ]
  },
  {
   "cell_type": "code",
   "execution_count": 479,
   "metadata": {
    "collapsed": false
   },
   "outputs": [],
   "source": [
    "fileData.drop(shortfiles, inplace=True)"
   ]
  },
  {
   "cell_type": "markdown",
   "metadata": {},
   "source": [
    "### Set up Protest Data (Random for now)"
   ]
  },
  {
   "cell_type": "code",
   "execution_count": 480,
   "metadata": {
    "collapsed": false
   },
   "outputs": [],
   "source": [
    "numprotests = int(round(len(fileData)*0.2,0))\n",
    "protests = ([1]*numprotests + [0]*(len(fileData)-numprotests))"
   ]
  },
  {
   "cell_type": "code",
   "execution_count": 481,
   "metadata": {
    "collapsed": false
   },
   "outputs": [],
   "source": [
    "random.shuffle(protests)"
   ]
  },
  {
   "cell_type": "code",
   "execution_count": 482,
   "metadata": {
    "collapsed": false
   },
   "outputs": [],
   "source": [
    "fileData['protest'] = protests"
   ]
  },
  {
   "cell_type": "markdown",
   "metadata": {},
   "source": [
    "### Document Level - Word Count Signals"
   ]
  },
  {
   "cell_type": "code",
   "execution_count": 483,
   "metadata": {
    "collapsed": false
   },
   "outputs": [],
   "source": [
    "counts = [tm.count_words(tokenLists[file]) for file in fileData.fileName]\n",
    "fileData['wordcount'] = counts"
   ]
  },
  {
   "cell_type": "code",
   "execution_count": 484,
   "metadata": {
    "collapsed": false
   },
   "outputs": [],
   "source": [
    "protest = [tm.count_specific_words(tokenLists[file], 'protest') for file in fileData.fileName]"
   ]
  },
  {
   "cell_type": "code",
   "execution_count": 485,
   "metadata": {
    "collapsed": true
   },
   "outputs": [],
   "source": [
    "god = [tm.count_specific_words(tokenLists[file], 'god') for file in fileData.fileName]"
   ]
  },
  {
   "cell_type": "code",
   "execution_count": 486,
   "metadata": {
    "collapsed": false
   },
   "outputs": [],
   "source": [
    "fileData['wordcount'] = counts"
   ]
  },
  {
   "cell_type": "code",
   "execution_count": 487,
   "metadata": {
    "collapsed": false
   },
   "outputs": [],
   "source": [
    "fileData['protest_word'] = protest"
   ]
  },
  {
   "cell_type": "code",
   "execution_count": 488,
   "metadata": {
    "collapsed": false
   },
   "outputs": [],
   "source": [
    "fileData['god'] = god"
   ]
  },
  {
   "cell_type": "markdown",
   "metadata": {},
   "source": [
    "### Document Level - Semantic Density Signal w/ News"
   ]
  },
  {
   "cell_type": "markdown",
   "metadata": {},
   "source": [
    "Updates to context vector semantic density algorithm for document level analysis: \n",
    "- create DSM from external source (i.e. set of news articles) instead of bin being analyzed\n",
    "- context vectors made occurance of target word in single document with distribution from generic DSM\n",
    "- updated algo to not make/store context vectors unless in target word list\n",
    "- had to account for words in the document, but not in the DSM (smoothing) * not complete\n",
    "- updated algo to return # of times target words shows up in the document, to help check for bias in small # of occurences of search word in document\n",
    "- "
   ]
  },
  {
   "cell_type": "code",
   "execution_count": 489,
   "metadata": {
    "collapsed": false
   },
   "outputs": [],
   "source": [
    "#Get word coCo for News Articles\n",
    "CoCo, TF, docTF = sd.coOccurence(newsTokenLists,k=2)\n",
    "#Get DSM for News Articles\n",
    "DSM=sd.DSM(CoCo,100)"
   ]
  },
  {
   "cell_type": "code",
   "execution_count": 490,
   "metadata": {
    "collapsed": false
   },
   "outputs": [
    {
     "name": "stdout",
     "output_type": "stream",
     "text": [
      "21 April 1915_Reception In Madras_Victoria Public Hall, Madras.txt\n",
      "11 February 1916_Gandhi's Speech at Benaras Hindu University_UNK.txt\n",
      "18 March 1922_Statement during The Great Trial of 1922_Ahmedabad.txt\n",
      "11 March 1930_On The Eve of Historic Dandi March_Ahmedabad.txt\n",
      "17 October 1931_his spiritual message_London.txt\n",
      "30 November 1931_Speech At The Round Table Conference_UNK.txt\n",
      "8 August 1942_ Quit India Speeches English_Bombay.txt\n",
      "8 August 1942_ Quit India Speeches Hindustani II_Bombay.txt\n",
      "8 August 1942_ Quit India Speeches Hindustani_Bombay.txt\n",
      "2 April 1947_Speech Before Inter-Asian Relations Conference_Inter-Asian Relations Conference.txt\n",
      "4 January 1948_Kashmir Issue_Prayer Meeting.txt\n",
      "12 January 1948_Speech On The Eve of The Last Fast_UNK.txt\n"
     ]
    }
   ],
   "source": [
    "semanticDensity=[]\n",
    "for file in fileData.fileName:\n",
    "    print(file)\n",
    "    CVDict=tm.contextVectors(tokenLists[file], DSM, ['the'], 2)\n",
    "    cosineSimilarity=tm.averageCosine(CVDict,simCount=100)\n",
    "    avgSD=np.mean([x[1] for x in cosineSimilarity])\n",
    "    semanticDensity = semanticDensity+[avgSD]"
   ]
  },
  {
   "cell_type": "code",
   "execution_count": 491,
   "metadata": {
    "collapsed": false
   },
   "outputs": [],
   "source": [
    "fileData['semanticDensity'] = semanticDensity"
   ]
  },
  {
   "cell_type": "markdown",
   "metadata": {},
   "source": [
    "### Document-Level Sentiment"
   ]
  },
  {
   "cell_type": "markdown",
   "metadata": {},
   "source": [
    "Updates to Sentiment algorithm for document level analysis: \n",
    "- % pos/neg words by document instead of averaged over bin\n",
    "- don't have signal of % pos/neg documents per bin bc not relevant to single-document analysis"
   ]
  },
  {
   "cell_type": "code",
   "execution_count": 492,
   "metadata": {
    "collapsed": false
   },
   "outputs": [
    {
     "name": "stdout",
     "output_type": "stream",
     "text": [
      "21 April 1915_Reception In Madras_Victoria Public Hall, Madras.txt\n",
      "11 February 1916_Gandhi's Speech at Benaras Hindu University_UNK.txt\n",
      "18 March 1922_Statement during The Great Trial of 1922_Ahmedabad.txt\n",
      "11 March 1930_On The Eve of Historic Dandi March_Ahmedabad.txt\n",
      "17 October 1931_his spiritual message_London.txt\n",
      "30 November 1931_Speech At The Round Table Conference_UNK.txt\n",
      "8 August 1942_ Quit India Speeches English_Bombay.txt\n",
      "8 August 1942_ Quit India Speeches Hindustani II_Bombay.txt\n",
      "8 August 1942_ Quit India Speeches Hindustani_Bombay.txt\n",
      "2 April 1947_Speech Before Inter-Asian Relations Conference_Inter-Asian Relations Conference.txt\n",
      "4 January 1948_Kashmir Issue_Prayer Meeting.txt\n",
      "12 January 1948_Speech On The Eve of The Last Fast_UNK.txt\n",
      "0:00:03.429564\n"
     ]
    }
   ],
   "source": [
    "start=datetime.datetime.now()\n",
    "sentiment=[]\n",
    "for file in fileData.fileName:\n",
    "    print(file)\n",
    "    sent = tm.sentimentLookup(tokenLists[file])\n",
    "    sentiment.append(sent) # Returns %pos, %neg, #pos, #\n",
    "print(datetime.datetime.now()-start)"
   ]
  },
  {
   "cell_type": "code",
   "execution_count": 493,
   "metadata": {
    "collapsed": false
   },
   "outputs": [],
   "source": [
    "s=[sent[0][0] for sent in sentiment]\n",
    "fileData['sentiment_pos']=s"
   ]
  },
  {
   "cell_type": "code",
   "execution_count": 494,
   "metadata": {
    "collapsed": true
   },
   "outputs": [],
   "source": [
    "s=[sent[0][1] for sent in sentiment]\n",
    "fileData['sentiment_neg']=s"
   ]
  },
  {
   "cell_type": "markdown",
   "metadata": {},
   "source": [
    "### Document-Level Network Analysis"
   ]
  },
  {
   "cell_type": "code",
   "execution_count": 495,
   "metadata": {
    "collapsed": false
   },
   "outputs": [],
   "source": [
    "#import syntacticParsing as sp\n",
    "import networkQuantification as nq"
   ]
  },
  {
   "cell_type": "code",
   "execution_count": 496,
   "metadata": {
    "collapsed": false
   },
   "outputs": [],
   "source": [
    "import syntacticParsing as sp"
   ]
  },
  {
   "cell_type": "code",
   "execution_count": 497,
   "metadata": {
    "collapsed": true
   },
   "outputs": [],
   "source": [
    "import pandas as pd\n",
    "import numpy as np\n",
    "\n",
    "import igraph\n",
    "import scipy.spatial.distance as ssd\n",
    "\n",
    "import math"
   ]
  },
  {
   "cell_type": "code",
   "execution_count": 498,
   "metadata": {
    "collapsed": false
   },
   "outputs": [],
   "source": [
    "#Define functions\n",
    "def getNetworkQuant(dsm,targetWords,netAngle):\n",
    "    \n",
    "    #Get list of values in DSM\n",
    "    dsmList=[list(dsm[key].values()) for key in dsm.keys()]\n",
    "    # print(dsmList)\n",
    "    #Calculate distances for each set of values in dsm\n",
    "    cosineNP=ssd.cdist(dsmList,dsmList,metric='cosine')\n",
    "    \n",
    "    adj = cosineNP.copy()\n",
    "    \n",
    "    #Apply thresholds\n",
    "    adj[np.abs(cosineNP) >= math.cos(math.radians(netAngle))] = 0 # Converting 30 degree threshold to radians to a cosine value\n",
    "    \n",
    "    adj[np.abs(cosineNP) < math.cos(math.radians(netAngle))] = 1 # Converting 30 degree threshold to radians to a cosine value\n",
    "    \n",
    "    adjList = pd.DataFrame(adj,columns=dsm.keys(),index=dsm.keys()).values.tolist()\n",
    "    \n",
    "    #Create network graph\n",
    "    net = igraph.Graph.Adjacency(adjList, mode = \"undirected\")\n",
    "    \n",
    "    #Get eigenvector centrality\n",
    "    ev_centrality = igraph.Graph.evcent(net)\n",
    "    \n",
    "    # ** Double Check this Subseting ** #\n",
    "    #Get mean eigenvector centrality for words in target list\n",
    "    meanEVC=np.mean([ev_centrality[i] for i in range(len(dsm.keys())) if list(dsm.keys())[i] in targetWords])\n",
    "    return(meanEVC)"
   ]
  },
  {
   "cell_type": "code",
   "execution_count": 499,
   "metadata": {
    "collapsed": false
   },
   "outputs": [
    {
     "name": "stdout",
     "output_type": "stream",
     "text": [
      "21 April 1915_Reception In Madras_Victoria Public Hall, Madras.txt\n"
     ]
    },
    {
     "name": "stderr",
     "output_type": "stream",
     "text": [
      "/Users/hopeemac/Documents/Code/GIT/DSI_Religion/prototype_python/syntacticParsing.py:90: FutureWarning: sort(columns=....) is deprecated, use sort_values(by=.....)\n",
      "  targetDF.sort(['count'],inplace=True,ascending=False)\n"
     ]
    },
    {
     "name": "stdout",
     "output_type": "stream",
     "text": [
      "11 February 1916_Gandhi's Speech at Benaras Hindu University_UNK.txt\n",
      "18 March 1922_Statement during The Great Trial of 1922_Ahmedabad.txt\n",
      "11 March 1930_On The Eve of Historic Dandi March_Ahmedabad.txt\n",
      "17 October 1931_his spiritual message_London.txt\n",
      "30 November 1931_Speech At The Round Table Conference_UNK.txt\n",
      "8 August 1942_ Quit India Speeches English_Bombay.txt\n",
      "8 August 1942_ Quit India Speeches Hindustani II_Bombay.txt\n",
      "8 August 1942_ Quit India Speeches Hindustani_Bombay.txt\n",
      "2 April 1947_Speech Before Inter-Asian Relations Conference_Inter-Asian Relations Conference.txt\n",
      "4 January 1948_Kashmir Issue_Prayer Meeting.txt\n",
      "12 January 1948_Speech On The Eve of The Last Fast_UNK.txt\n"
     ]
    }
   ],
   "source": [
    "# Make DSM from Document\n",
    "# Still need to get Target Words\n",
    "network=[]\n",
    "for file in fileData.fileName:\n",
    "    print(file)\n",
    "    #Get word coCo for Single Document\n",
    "    CoCo, TF, docTF = sd.coOccurence({file: tokenLists[file]},k=2)\n",
    "    #Get DSM for Single Document\n",
    "    DSM=sd.DSM(CoCo,100)\n",
    "    # txtstr = getRawText(dataloc,fileData.fileName[0])\n",
    "    targetwords = sp.targetWords(tm.getRawText(dataloc,file),wordCount=10,startCount=0)\n",
    "    # print(targetwords)\n",
    "    result=getNetworkQuant(DSM,targetwords,30)\n",
    "    network.append(result)"
   ]
  },
  {
   "cell_type": "code",
   "execution_count": 500,
   "metadata": {
    "collapsed": false
   },
   "outputs": [],
   "source": [
    "fileData['network']=network"
   ]
  },
  {
   "cell_type": "markdown",
   "metadata": {},
   "source": [
    "### Document-Level Judgements"
   ]
  },
  {
   "cell_type": "markdown",
   "metadata": {},
   "source": [
    "Updates to Judgements algorithm for document level analysis: \n",
    "- get target words from single document, not from all documents in bin\n",
    "- percent of judgements is based on a 1 document, not the average of all documents in bin\n",
    "- only using % judgements, not raw count of number of judgement sentences"
   ]
  },
  {
   "cell_type": "code",
   "execution_count": 501,
   "metadata": {
    "collapsed": true
   },
   "outputs": [],
   "source": [
    "import syntacticParsing as sp"
   ]
  },
  {
   "cell_type": "code",
   "execution_count": 502,
   "metadata": {
    "collapsed": false
   },
   "outputs": [
    {
     "name": "stdout",
     "output_type": "stream",
     "text": [
      "21 April 1915_Reception In Madras_Victoria Public Hall, Madras.txt\n",
      "11 February 1916_Gandhi's Speech at Benaras Hindu University_UNK.txt\n"
     ]
    },
    {
     "name": "stderr",
     "output_type": "stream",
     "text": [
      "/Users/hopeemac/Documents/Code/GIT/DSI_Religion/prototype_python/syntacticParsing.py:90: FutureWarning: sort(columns=....) is deprecated, use sort_values(by=.....)\n",
      "  targetDF.sort(['count'],inplace=True,ascending=False)\n"
     ]
    },
    {
     "name": "stdout",
     "output_type": "stream",
     "text": [
      "18 March 1922_Statement during The Great Trial of 1922_Ahmedabad.txt\n",
      "11 March 1930_On The Eve of Historic Dandi March_Ahmedabad.txt\n",
      "17 October 1931_his spiritual message_London.txt\n",
      "30 November 1931_Speech At The Round Table Conference_UNK.txt\n",
      "8 August 1942_ Quit India Speeches English_Bombay.txt\n",
      "8 August 1942_ Quit India Speeches Hindustani II_Bombay.txt\n",
      "8 August 1942_ Quit India Speeches Hindustani_Bombay.txt\n",
      "2 April 1947_Speech Before Inter-Asian Relations Conference_Inter-Asian Relations Conference.txt\n",
      "4 January 1948_Kashmir Issue_Prayer Meeting.txt\n",
      "12 January 1948_Speech On The Eve of The Last Fast_UNK.txt\n"
     ]
    }
   ],
   "source": [
    "judgements=[]\n",
    "for file in fileData.fileName:\n",
    "    print(file)\n",
    "    rawText = tm.getRawText(dataloc,file)\n",
    "    targetwords = sp.targetWords(rawText,wordCount=10,startCount=0)\n",
    "    percent=sp.judgements(rawText)\n",
    "    judgements.append(percent)\n",
    "    #judgementAvg=list(np.mean(np.array(judgementList),axis=0))"
   ]
  },
  {
   "cell_type": "code",
   "execution_count": 503,
   "metadata": {
    "collapsed": false,
    "scrolled": true
   },
   "outputs": [],
   "source": [
    "j=[judge[1] for judge in judgements]\n",
    "fileData['judgements']=j"
   ]
  },
  {
   "cell_type": "markdown",
   "metadata": {},
   "source": [
    "### Visualizations"
   ]
  },
  {
   "cell_type": "markdown",
   "metadata": {
    "collapsed": false
   },
   "source": [
    "# Plotting the Count of the word 'God'\n",
    "plt.figure(num=None, figsize=(16, 6), dpi=80, facecolor='w', edgecolor='k')\n",
    "plt.plot(fileData.date_clean, fileData.god)\n",
    "# plt.plot(fileData.date_clean, fileData.semanticDensity)\n",
    "plt.ylabel(\"Count of Word 'God'\")\n",
    "plt.xlabel(\"Date\")\n",
    "plt.title(\"Variance in Usage of the Word 'God'over time\")\n",
    "plt.axhline(fileData.god.mean(), color = 'green')\n",
    "# plt.xlim(['2007-07-01','2008-07-01'])\n",
    "plt.show()"
   ]
  },
  {
   "cell_type": "markdown",
   "metadata": {
    "collapsed": false
   },
   "source": [
    "plt.figure(num=None, figsize=(16, 6), dpi=80, facecolor='w', edgecolor='k')\n",
    "plt.plot(fileData.date_clean, fileData.protest_word)\n",
    "# plt.plot(fileData.date_clean, fileData.wordcount)\n",
    "plt.ylabel(\"Count of Word 'Protest'\")\n",
    "plt.xlabel(\"Date\")\n",
    "plt.title(\"Variance in Usage of the Word 'Protest'over time\")\n",
    "plt.ylim([0,10])\n",
    "# plt.axhline(fileData.god.mean(), color = 'green')\n",
    "plt.show()"
   ]
  },
  {
   "cell_type": "markdown",
   "metadata": {
    "collapsed": false
   },
   "source": [
    "plt.figure(num=None, figsize=(16, 6), dpi=80, facecolor='w', edgecolor='k')\n",
    "plt.plot(fileData.date_clean, fileData.semanticDensity)\n",
    "# plt.plot(fileData.date_clean, fileData.semanticDensity, 'ro') # Plot Points instead of Line\n",
    "plt.ylabel(\"Semantic Density of the word 'the'\")\n",
    "plt.xlabel(\"Date\")\n",
    "plt.title(\"Semantic Density of the word 'the'\")\n",
    "plt.ylim([0.2,0.6])\n",
    "plt.xlim(['2007-07-01','2008-07-01'])\n",
    "# plt.axhline(fileData.god.mean(), color = 'green')\n",
    "plt.show()"
   ]
  },
  {
   "cell_type": "markdown",
   "metadata": {
    "collapsed": false
   },
   "source": [
    "# Plot Network Signal over Time\n",
    "plt.figure(num=None, figsize=(16, 6), dpi=80, facecolor='w', edgecolor='k')\n",
    "plt.plot(fileData.date_clean, fileData.network)\n",
    "# plt.plot(fileData.date_clean, fileData.semanticDensity)\n",
    "plt.ylabel(\"Count of Word 'God'\")\n",
    "plt.xlabel(\"Date\")\n",
    "plt.title(\"Variance in Usage of the Word 'God'over time\")\n",
    "#plt.axhline(fileData.god.mean(), color = 'green')\n",
    "# plt.xlim(['2007-07-01','2008-07-01'])\n",
    "plt.show()"
   ]
  },
  {
   "cell_type": "markdown",
   "metadata": {
    "collapsed": false
   },
   "source": [
    "plt.figure(num=None, figsize=(16, 6), dpi=80, facecolor='w', edgecolor='k')\n",
    "plt.plot(fileData.date_clean, fileData.judgements)\n",
    "# plt.plot(fileData.date_clean, fileData.semanticDensity)\n",
    "plt.ylabel(\"Count of Word 'God'\")\n",
    "plt.xlabel(\"Date\")\n",
    "plt.title(\"% Judgements over Time\")\n",
    "#plt.axhline(fileData.god.mean(), color = 'green')\n",
    "plt.xlim(['2012-01-01','2014-01-01'])\n",
    "plt.show()"
   ]
  },
  {
   "cell_type": "markdown",
   "metadata": {
    "collapsed": false
   },
   "source": [
    "# Plotting w/ 2 Y-Scales\n",
    "fig = plt.figure(num=None, figsize=(16, 6), dpi=80, facecolor='w', edgecolor='k')\n",
    "\n",
    "ax1 = fig.add_subplot(111)\n",
    "ax1.plot(fileData.date_clean, fileData.semanticDensity)\n",
    "ax1.set_xlabel('date')\n",
    "ax1.set_ylabel('semantic density')\n",
    "ax1.set_ylim([0,1])\n",
    "\n",
    "ax2 = ax1.twinx()\n",
    "ax2.plot(fileData.date_clean, fileData.god, 'green')\n",
    "ax2.set_ylabel('word count')\n",
    "\n",
    "plt.show()"
   ]
  },
  {
   "cell_type": "code",
   "execution_count": 504,
   "metadata": {
    "collapsed": false
   },
   "outputs": [],
   "source": [
    "# Par Plot for all Signals in DF\n",
    "def drawSignalPlots(fileData, start_date, end_date, filename, save):\n",
    "    print(fileData.date_clean.min(), fileData.date_clean.max())\n",
    "    signals = [var for var in fileData.columns if var not in ['fileName', 'date', 'date_clean']]\n",
    "\n",
    "    plt.figure(num=None, figsize=(16, 4*len(signals)), dpi=80, facecolor='w', edgecolor='k')\n",
    "\n",
    "    i = 1\n",
    "    for signal in signals:\n",
    "        plt.subplot(len(signals), 1, i)\n",
    "        plt.plot(fileData.date_clean, fileData[signal], 'o')\n",
    "        # plt.plot(fileData.date_clean, fileData.semanticDensity)\n",
    "        plt.ylabel(signal)\n",
    "        plt.xlabel(\"Date\")\n",
    "        if i == 1:\n",
    "            plt.title(group+' Text Analysis')\n",
    "        #plt.axhline(fileData.god.mean(), color = 'green')\n",
    "        plt.axhspan(fileData[signal].quantile(0.25), fileData[signal].quantile(0.75), \\\n",
    "            facecolor='yellow', alpha=0.5)\n",
    "        plt.xlim([start_date,end_date])\n",
    "        i += 1\n",
    "    if save:\n",
    "        plt.savefig('../protest_temporalAnalysis/'+filename)\n",
    "    plt.show()"
   ]
  },
  {
   "cell_type": "markdown",
   "metadata": {},
   "source": [
    "### Draw Plots"
   ]
  },
  {
   "cell_type": "code",
   "execution_count": 505,
   "metadata": {
    "collapsed": false
   },
   "outputs": [
    {
     "name": "stdout",
     "output_type": "stream",
     "text": [
      "1915-04-21 00:00:00 1948-01-12 00:00:00\n"
     ]
    },
    {
     "data": {
      "image/png": "[encoded data removed]",
      "text/plain": [
       "<matplotlib.figure.Figure at 0x12cbac080>"
      ]
     },
     "metadata": {},
     "output_type": "display_data"
    }
   ],
   "source": [
    "drawSignalPlots(fileData,plotstart,plotend,plotfilename,saveplot )"
   ]
  },
  {
   "cell_type": "code",
   "execution_count": 506,
   "metadata": {
    "collapsed": false
   },
   "outputs": [
    {
     "data": {
      "text/plain": [
       "0"
      ]
     },
     "execution_count": 506,
     "metadata": {},
     "output_type": "execute_result"
    }
   ],
   "source": [
    "os.system('say \"your program has finished\"')"
   ]
  }
 ],
 "metadata": {
  "anaconda-cloud": {},
  "kernelspec": {
   "display_name": "Python [rel35]",
   "language": "python",
   "name": "Python [rel35]"
  },
  "language_info": {
   "codemirror_mode": {
    "name": "ipython",
    "version": 3
   },
   "file_extension": ".py",
   "mimetype": "text/x-python",
   "name": "python",
   "nbconvert_exporter": "python",
   "pygments_lexer": "ipython3",
   "version": "3.5.2"
  }
 },
 "nbformat": 4,
 "nbformat_minor": 0
}
