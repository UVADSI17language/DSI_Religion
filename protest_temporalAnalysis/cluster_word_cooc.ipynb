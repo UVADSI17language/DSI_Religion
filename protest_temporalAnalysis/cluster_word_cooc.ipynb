{
 "cells": [
  {
   "cell_type": "markdown",
   "metadata": {},
   "source": [
    "# Clustering Word Co-Occurrences"
   ]
  },
  {
   "cell_type": "code",
   "execution_count": 1,
   "metadata": {
    "collapsed": true
   },
   "outputs": [],
   "source": [
    "import pandas as pd\n",
    "import xml.etree.ElementTree as ET\n",
    "import os, sys, imp\n",
    "import numpy as np\n",
    "import pandas as pd\n",
    "import re\n",
    "import random\n",
    "import math\n",
    "import nltk\n",
    "import string\n",
    "import datetime\n",
    "import imp\n",
    "\n",
    "# Sklearn\n",
    "from sklearn.metrics import accuracy_score\n",
    "from sklearn.metrics import confusion_matrix\n",
    "\n",
    "# Plotting\n",
    "import matplotlib as mpl\n",
    "import matplotlib.pyplot as plt\n",
    "%matplotlib inline\n",
    "\n",
    "# Clustering\n",
    "from sklearn.feature_extraction import DictVectorizer\n",
    "from sklearn.metrics.pairwise import cosine_similarity\n",
    "from scipy.cluster.hierarchy import ward, dendrogram\n",
    "from nltk.corpus import stopwords\n",
    "from scipy.cluster.hierarchy import fcluster\n",
    "from statistics import mean"
   ]
  },
  {
   "cell_type": "code",
   "execution_count": 2,
   "metadata": {
    "collapsed": true
   },
   "outputs": [],
   "source": [
    "tokenizer = nltk.tokenize.treebank.TreebankWordTokenizer()"
   ]
  },
  {
   "cell_type": "code",
   "execution_count": 3,
   "metadata": {
    "collapsed": false
   },
   "outputs": [],
   "source": [
    "punctuation = set(string.punctuation)"
   ]
  },
  {
   "cell_type": "code",
   "execution_count": 4,
   "metadata": {
    "collapsed": false
   },
   "outputs": [],
   "source": [
    "stopwordList = stopwords.words('english')"
   ]
  },
  {
   "cell_type": "code",
   "execution_count": 5,
   "metadata": {
    "collapsed": true
   },
   "outputs": [],
   "source": [
    "os.chdir('..') # Change to Top Level GIT Directory"
   ]
  },
  {
   "cell_type": "code",
   "execution_count": 6,
   "metadata": {
    "collapsed": true
   },
   "outputs": [],
   "source": [
    "sys.path.append('./prototype_python') # Add location of python prototype to path"
   ]
  },
  {
   "cell_type": "code",
   "execution_count": 7,
   "metadata": {
    "collapsed": true
   },
   "outputs": [],
   "source": [
    "sys.path.append('./protest_temporalAnalysis/') # Add location of python prototype to path"
   ]
  },
  {
   "cell_type": "code",
   "execution_count": 8,
   "metadata": {
    "collapsed": false
   },
   "outputs": [],
   "source": [
    "import temporal_methods as tm\n",
    "import semanticDensity as sd\n",
    "import syntacticParsing as sp"
   ]
  },
  {
   "cell_type": "markdown",
   "metadata": {},
   "source": [
    "### Tokenize and Pre-Process all Files"
   ]
  },
  {
   "cell_type": "code",
   "execution_count": 9,
   "metadata": {
    "collapsed": false
   },
   "outputs": [
    {
     "name": "stdout",
     "output_type": "stream",
     "text": [
      "1954-02-28 00:00:00 1968-03-31 00:00:00\n"
     ]
    }
   ],
   "source": [
    "dataloc = '/Users/hopeemac/Documents/Code/GIT/DSI_Religion/protest_temporalAnalysis/data_activists/MLK/raw/'\n",
    "fileData = tm.getSimplemetadata(dataloc)\n",
    "print(fileData.date_clean.min(), fileData.date_clean.max())"
   ]
  },
  {
   "cell_type": "code",
   "execution_count": 10,
   "metadata": {
    "collapsed": false
   },
   "outputs": [
    {
     "name": "stderr",
     "output_type": "stream",
     "text": [
      "./prototype_python/syntacticParsing.py:90: FutureWarning: sort(columns=....) is deprecated, use sort_values(by=.....)\n",
      "  targetDF.sort(['count'],inplace=True,ascending=False)\n"
     ]
    }
   ],
   "source": [
    "# Get Target Words (Top 10 Adj/Adv in the Document) for each Document, Store in Dict\n",
    "targetwords = {}\n",
    "for file in fileData.fileName:\n",
    "    targetwords[file] = sp.targetWords(tm.getRawText(dataloc,file),wordCount=10,startCount=0)"
   ]
  },
  {
   "cell_type": "code",
   "execution_count": 11,
   "metadata": {
    "collapsed": true
   },
   "outputs": [],
   "source": [
    "# File to be analyzed\n",
    "f = '17 November 1957_Loving Your Enemies.txt'"
   ]
  },
  {
   "cell_type": "code",
   "execution_count": 12,
   "metadata": {
    "collapsed": false
   },
   "outputs": [
    {
     "data": {
      "text/plain": [
       "['not',\n",
       " 'when',\n",
       " 'very',\n",
       " 'good',\n",
       " 'even',\n",
       " 'just',\n",
       " 'most',\n",
       " 'more',\n",
       " 'enough',\n",
       " 'great']"
      ]
     },
     "execution_count": 12,
     "metadata": {},
     "output_type": "execute_result"
    }
   ],
   "source": [
    "targetwords[f]"
   ]
  },
  {
   "cell_type": "code",
   "execution_count": 13,
   "metadata": {
    "collapsed": true
   },
   "outputs": [],
   "source": [
    "tokenLists = {file: tm.tokenize34(dataloc,file) for file in fileData.fileName}"
   ]
  },
  {
   "cell_type": "code",
   "execution_count": 14,
   "metadata": {
    "collapsed": false
   },
   "outputs": [],
   "source": [
    "tokenLists = {file: tm.clean_text(tokenLists[file]) for file in fileData.fileName}"
   ]
  },
  {
   "cell_type": "code",
   "execution_count": 15,
   "metadata": {
    "collapsed": true
   },
   "outputs": [],
   "source": [
    "articles = ['a','the','an']"
   ]
  },
  {
   "cell_type": "code",
   "execution_count": 16,
   "metadata": {
    "collapsed": true
   },
   "outputs": [],
   "source": [
    "rel_stopwords = ['ye','thou','shall','thoust','thine']"
   ]
  },
  {
   "cell_type": "code",
   "execution_count": 17,
   "metadata": {
    "collapsed": false
   },
   "outputs": [],
   "source": [
    "tokens_clean = {}\n",
    "for file in fileData.fileName:\n",
    "    TL = [token for token in tokenLists[file] if token not in articles+rel_stopwords]\n",
    "    tokens_clean[file] = TL"
   ]
  },
  {
   "cell_type": "markdown",
   "metadata": {
    "collapsed": true
   },
   "source": [
    "## Get Context Vectors for all instances of Target Word"
   ]
  },
  {
   "cell_type": "code",
   "execution_count": 18,
   "metadata": {
    "collapsed": true
   },
   "outputs": [],
   "source": [
    "#Define function to create context vectors\n",
    "def make_coOcVectors_TFdict(tokenList,wordlist,k):\n",
    "    'Returns vectors of words within window for each occurrence of word in wordlist'\n",
    "    \n",
    "    #Define coOccurence dict\n",
    "    cvDict={}\n",
    "\n",
    "    for i in range(len(tokenList)):\n",
    "        targetword=tokenList[i] # Changed window to targetword for more clarity\n",
    "        \n",
    "        if targetword in wordlist:\n",
    "            # print(targetword)\n",
    "            #Adjust window to contain words k in front or k behind\n",
    "            lowerBound=max(0,i-k)\n",
    "            upperBound=min(len(tokenList),i+k)\n",
    "            cvList=tokenList[lowerBound:i]+tokenList[i+1:upperBound+1]\n",
    "    \n",
    "            if targetword not in cvDict.keys():\n",
    "                cvDict[targetword]={}\n",
    "            \n",
    "            #Add context vector to cvDict\n",
    "            cvIndex=len(cvDict[targetword])+1\n",
    "            cvDict[targetword][cvIndex]={}\n",
    "            \n",
    "            for word in cvList:\n",
    "                if word in cvDict[targetword][cvIndex]:\n",
    "                    cvDict[targetword][cvIndex][word] += 1\n",
    "                else:\n",
    "                    cvDict[targetword][cvIndex][word] = 1\n",
    "    \n",
    "    #Return context vector dictionary\n",
    "    return(cvDict)"
   ]
  },
  {
   "cell_type": "markdown",
   "metadata": {},
   "source": [
    "## Working W/ Clustering and Pairwise Distance"
   ]
  },
  {
   "cell_type": "markdown",
   "metadata": {},
   "source": [
    "Using the cosine similiarity of the word co-occurances of each occurance of the targetword to cluster and determine number of distinct \"usages\" of the word in the documnet."
   ]
  },
  {
   "cell_type": "markdown",
   "metadata": {},
   "source": [
    "### Print Cluster Plot for a Single Document"
   ]
  },
  {
   "cell_type": "code",
   "execution_count": 19,
   "metadata": {
    "collapsed": false
   },
   "outputs": [
    {
     "name": "stdout",
     "output_type": "stream",
     "text": [
      "Number of Occurences: 15\n",
      "very\n"
     ]
    },
    {
     "data": {
      "image/png": "[encoded data removed]",
      "text/plain": [
       "<matplotlib.figure.Figure at 0x11a703c18>"
      ]
     },
     "metadata": {},
     "output_type": "display_data"
    }
   ],
   "source": [
    "targetword = 'very'\n",
    "\n",
    "coOc_TFdict=make_coOcVectors_TFdict(tokens_clean[f], [targetword], 4)\n",
    "\n",
    "# Covert Dict of Co-Occurrances to DTM\n",
    "coCoDictList = []\n",
    "for key in coOc_TFdict[targetword].keys():\n",
    "    coCoDictList.append(coOc_TFdict[targetword][key])\n",
    "\n",
    "dv = DictVectorizer(sparse=True)\n",
    "dtm = dv.fit_transform(coCoDictList)\n",
    "\n",
    "dist = 1 - cosine_similarity(dtm)\n",
    "\n",
    "linkage_matrix = ward(dist)\n",
    "\n",
    "names=list(coOc_TFdict[targetword].keys())\n",
    "\n",
    "print('Number of Occurences: '+str(len(names)))\n",
    "print(targetword)\n",
    "# match dendrogram to that returned by R's hclust()\n",
    "plt.figure(num=None, figsize=(16, 8), dpi=80, facecolor='w', edgecolor='k')\n",
    "\n",
    "dendrogram(linkage_matrix, orientation=\"left\", labels=names, color_threshold=2.0)\n",
    "\n",
    "#dendrogram(linkage_matrix, orientation=\"left\", labels=names)\n",
    "\n",
    "plt.xlim([4.0,0.0])\n",
    "plt.tight_layout()  # fixes margins\n",
    "\n",
    "# plt.show()\n",
    "# plt.savefig('./protest_temporalAnalysis/'+targetword+'_clustering.pdf')"
   ]
  },
  {
   "cell_type": "code",
   "execution_count": 20,
   "metadata": {
    "collapsed": true
   },
   "outputs": [],
   "source": [
    "Z = linkage_matrix"
   ]
  },
  {
   "cell_type": "code",
   "execution_count": 21,
   "metadata": {
    "collapsed": false
   },
   "outputs": [
    {
     "data": {
      "text/plain": [
       "array([[ 12.        ,  13.        ,   0.94207218,   2.        ],\n",
       "       [  3.        ,   7.        ,   0.96014322,   2.        ],\n",
       "       [ 10.        ,  16.        ,   1.03018343,   3.        ],\n",
       "       [  6.        ,  15.        ,   1.10113578,   3.        ],\n",
       "       [  2.        ,   5.        ,   1.13192314,   2.        ],\n",
       "       [ 11.        ,  18.        ,   1.22601998,   4.        ],\n",
       "       [  0.        ,   9.        ,   1.26243812,   2.        ],\n",
       "       [  8.        ,  14.        ,   1.26243812,   2.        ],\n",
       "       [  4.        ,  20.        ,   1.40690263,   5.        ],\n",
       "       [  1.        ,  21.        ,   1.49652375,   3.        ],\n",
       "       [ 19.        ,  22.        ,   1.55120921,   4.        ],\n",
       "       [ 17.        ,  23.        ,   1.60891776,   8.        ],\n",
       "       [ 24.        ,  25.        ,   1.63162569,   7.        ],\n",
       "       [ 26.        ,  27.        ,   2.28793113,  15.        ]])"
      ]
     },
     "execution_count": 21,
     "metadata": {},
     "output_type": "execute_result"
    }
   ],
   "source": [
    "linkage_matrix"
   ]
  },
  {
   "cell_type": "code",
   "execution_count": 22,
   "metadata": {
    "collapsed": false
   },
   "outputs": [
    {
     "name": "stdout",
     "output_type": "stream",
     "text": [
      "Number of clusters:  2\n"
     ]
    }
   ],
   "source": [
    "\n",
    "max_d = 2.0 # Same as color_threshold\n",
    "clusters = fcluster(Z, max_d, criterion='distance')\n",
    "\n",
    "clusters\n",
    "print(\"Number of clusters: \",max(clusters))"
   ]
  },
  {
   "cell_type": "markdown",
   "metadata": {},
   "source": [
    "Color Threshold - Need to Standardize across the Target Words\n",
    "\n",
    "\n",
    "Colors all the descendent links below a cluster node k the same color if k \n",
    "is the first node below the cut threshold t. All links connecting nodes with distances greater than \n",
    "or equal to the threshold are colored blue. \n",
    "If t is less than or equal to zero, all nodes are colored blue."
   ]
  },
  {
   "cell_type": "code",
   "execution_count": 23,
   "metadata": {
    "collapsed": false
   },
   "outputs": [
    {
     "data": {
      "text/plain": [
       "1.6015517897747447"
      ]
     },
     "execution_count": 23,
     "metadata": {},
     "output_type": "execute_result"
    }
   ],
   "source": [
    "# color_threshold default\n",
    "0.7*max(linkage_matrix [:,2])"
   ]
  },
  {
   "cell_type": "markdown",
   "metadata": {},
   "source": [
    "### Print Plot for all Target Words in a Single Document"
   ]
  },
  {
   "cell_type": "code",
   "execution_count": 24,
   "metadata": {
    "collapsed": false,
    "scrolled": false
   },
   "outputs": [
    {
     "name": "stdout",
     "output_type": "stream",
     "text": [
      "17 November 1957_Loving Your Enemies.txt\n",
      "not\n",
      "Number of Occurences:  22\n",
      "Number of clusters:  4\n",
      "Number of clusters Normalized:  0.181818181818\n",
      "when\n",
      "Number of Occurences:  21\n",
      "Number of clusters:  4\n",
      "Number of clusters Normalized:  0.190476190476\n",
      "very\n",
      "Number of Occurences:  15\n",
      "Number of clusters:  2\n",
      "Number of clusters Normalized:  0.133333333333\n",
      "good\n",
      "Number of Occurences:  13\n",
      "Number of clusters:  4\n",
      "Number of clusters Normalized:  0.307692307692\n",
      "even\n",
      "Number of Occurences:  12\n",
      "Number of clusters:  3\n",
      "Number of clusters Normalized:  0.25\n",
      "just\n",
      "Number of Occurences:  12\n",
      "Number of clusters:  2\n",
      "Number of clusters Normalized:  0.166666666667\n",
      "most\n",
      "Number of Occurences:  12\n",
      "Number of clusters:  3\n",
      "Number of clusters Normalized:  0.25\n",
      "more\n",
      "Number of Occurences:  11\n",
      "Number of clusters:  2\n",
      "Number of clusters Normalized:  0.181818181818\n",
      "enough\n",
      "Number of Occurences:  11\n",
      "Number of clusters:  2\n",
      "Number of clusters Normalized:  0.181818181818\n",
      "great\n",
      "Number of Occurences:  11\n",
      "Number of clusters:  2\n",
      "Number of clusters Normalized:  0.181818181818\n"
     ]
    },
    {
     "data": {
      "image/png": "[encoded data removed]",
      "text/plain": [
       "<matplotlib.figure.Figure at 0x11babdc88>"
      ]
     },
     "metadata": {},
     "output_type": "display_data"
    }
   ],
   "source": [
    "# File to Be Analyzed: f\n",
    "print(f)\n",
    "coOc_TFdict=make_coOcVectors_TFdict(tokens_clean[f], targetwords[f], 4)\n",
    "i = 1\n",
    "plt.figure(num=None, figsize=(16, 4*len(targetwords)), dpi=80, facecolor='w', edgecolor='k')\n",
    "\n",
    "# Distance Threshold for Cluster Cutoff\n",
    "max_d = 2.0\n",
    "\n",
    "cluster_count = []\n",
    "cluster_count_norm = []\n",
    "\n",
    "for target in targetwords[f]:\n",
    "    print(target)\n",
    "    # Covert Dict of Co-Occurrances to DTM\n",
    "    coCoDictList = []\n",
    "    for key in coOc_TFdict[target].keys():\n",
    "        coCoDictList.append(coOc_TFdict[target][key])\n",
    "    dv = DictVectorizer(sparse=True)\n",
    "    dtm = dv.fit_transform(coCoDictList)\n",
    "    dist = 1 - cosine_similarity(dtm)\n",
    "    linkage_matrix = ward(dist)\n",
    "    names=list(coOc_TFdict[target].keys())\n",
    "\n",
    "    # Get number of distinct clusters\n",
    "    clusters = fcluster(linkage_matrix, max_d, criterion='distance')\n",
    "    \n",
    "    cluster_count.append(max(clusters))\n",
    "    cluster_count_norm.append(max(clusters)/len(names))\n",
    "    \n",
    "    print('Number of Occurences: ', len(names))\n",
    "    print(\"Number of clusters: \", max(clusters))\n",
    "    print(\"Number of clusters Normalized: \", max(clusters)/len(names))\n",
    "    \n",
    "    # Plot Clusters for Each Word in Targetword List\n",
    "    plt.subplot(len(targetwords), 1, i)\n",
    "    dendrogram(linkage_matrix, orientation=\"left\", labels=names, color_threshold=max_d)\n",
    "    plt.xlim([4.0,0.0]) # Standard Scale for all Plots\n",
    "    plt.title(target)\n",
    "    plt.tight_layout()  # fixes margins\n",
    "\n",
    "    i += 1"
   ]
  },
  {
   "cell_type": "code",
   "execution_count": 25,
   "metadata": {
    "collapsed": false
   },
   "outputs": [
    {
     "name": "stdout",
     "output_type": "stream",
     "text": [
      "2\n",
      "0.202544122544\n"
     ]
    }
   ],
   "source": [
    "# Signal for this Document, average number of \"uses\" the Top 10 Adj/Adv have in the document. To Do -- Average across \n",
    "# multiple documents. Could just concatenate the documents into one long string.\n",
    "# Should this be normalized by the number of occurrences of that word?\n",
    "\n",
    "print(mean(cluster_count))\n",
    "print(mean(cluster_count_norm))\n"
   ]
  },
  {
   "cell_type": "markdown",
   "metadata": {},
   "source": [
    "## Built as Function for temporal_viz File"
   ]
  },
  {
   "cell_type": "code",
   "execution_count": 26,
   "metadata": {
    "collapsed": true
   },
   "outputs": [],
   "source": [
    "def getWordUsage(tokenlist,targetwords,windowSize):\n",
    "    # Make sure 'nt' converted to 'not' in target word list\n",
    "    targetwords = [word for word in targetwords if word != 'nt']\n",
    "    \n",
    "    coOc_TFdict=make_coOcVectors_TFdict(tokenlist, targetwords, windowSize)\n",
    "   \n",
    "    # Distance Threshold for Cluster Cutoff\n",
    "    max_d = 2.0\n",
    "\n",
    "    cluster_count = []\n",
    "    cluster_count_norm = []\n",
    "\n",
    "    for target in targetwords:\n",
    "        # Covert Dict of Co-Occurrances to DTM\n",
    "        coCoDictList = []\n",
    "        for key in coOc_TFdict[target].keys():\n",
    "            coCoDictList.append(coOc_TFdict[target][key])\n",
    "        dv = DictVectorizer(sparse=True)\n",
    "        dtm = dv.fit_transform(coCoDictList)\n",
    "        dist = 1 - cosine_similarity(dtm)\n",
    "        linkage_matrix = ward(dist)\n",
    "        names=list(coOc_TFdict[target].keys())\n",
    "\n",
    "        # Get number of distinct clusters\n",
    "        clusters = fcluster(linkage_matrix, max_d, criterion='distance')\n",
    "\n",
    "        cluster_count.append(max(clusters))\n",
    "        cluster_count_norm.append(max(clusters)/len(names))\n",
    "\n",
    "    return (mean(cluster_count), mean(cluster_count_norm))"
   ]
  },
  {
   "cell_type": "code",
   "execution_count": 27,
   "metadata": {
    "collapsed": false
   },
   "outputs": [
    {
     "name": "stdout",
     "output_type": "stream",
     "text": [
      "28 February 1954_Rediscovering Lost Values_Detroit, Mich.txt\n",
      "4 November 1956_Paul's Letter to American Christians_Dexter Avenue Baptist Church, Montgomery, Alabama.txt\n",
      "17 May 1957_Give Us the Ballot_Washington, D.C.txt\n",
      "17 November 1957_Loving Your Enemies.txt\n",
      "23 June 1963_Speech at the Great March on Detroit_Cobo Hall in Detroit.txt\n",
      "18 September 1963_Eulogy for the Martyred Children_UNK.txt\n",
      "25 March 1965_Our God is Marching On!_Montgomery, Ala.txt\n",
      "4 July 1965_The American Dream_Ebenezer Baptist Church, Atlanta, Georgia.txt\n",
      "5 June 1966_Guidelines for a Constructive Church_Ebenezer Baptist Church, Atlanta, Georgia.txt\n",
      "4 April 1967_Beyond Vietnam_New York, N.Y.txt\n",
      "9 April 1967_The Three Dimensions Of A Complete Life_New Covenant Baptist Church Chicago Illinois.txt\n",
      "11 June 1967_A Knock at Midnight_UNK.txt\n",
      "27 August 1967_Why Jesus Called A Man A Fool_Mount Pisgah Missionary Baptist Church, Chicago, Illinois.txt\n",
      "4 February 1968_The Drum Major Instinct_UNK.txt\n",
      "31 March 1968_Remaining Awake Through a Great Revolution_National Cathedral, Washington, DC.txt\n",
      "0:00:00.328537\n"
     ]
    }
   ],
   "source": [
    "start=datetime.datetime.now()\n",
    "usage=[]\n",
    "for file in fileData.fileName:\n",
    "    print(file)\n",
    "    use = getWordUsage(tokenLists[file],targetwords[file],4)\n",
    "    usage.append(use) # Returns %pos, %neg, #pos, #\n",
    "print(datetime.datetime.now()-start)"
   ]
  },
  {
   "cell_type": "code",
   "execution_count": 28,
   "metadata": {
    "collapsed": false
   },
   "outputs": [
    {
     "data": {
      "text/plain": [
       "[(4, 0.19437551534552758),\n",
       " (1, 0.14846542346542346),\n",
       " (1, 0.20371794871794874),\n",
       " (2, 0.19485181485181485),\n",
       " (2, 0.17584073471285747),\n",
       " (1, 0.29984848484848486),\n",
       " (4, 0.19291549953314657),\n",
       " (4, 0.18519561492858705),\n",
       " (2, 0.21729005562338896),\n",
       " (3, 0.16230208197599502),\n",
       " (4, 0.15647913982153111),\n",
       " (2, 0.19405651892864167),\n",
       " (3, 0.17222070553967106),\n",
       " (3, 0.19839272177000372),\n",
       " (2, 0.16440595223489959)]"
      ]
     },
     "execution_count": 28,
     "metadata": {},
     "output_type": "execute_result"
    }
   ],
   "source": [
    "usage"
   ]
  },
  {
   "cell_type": "code",
   "execution_count": 29,
   "metadata": {
    "collapsed": false
   },
   "outputs": [],
   "source": [
    "# Extracts the average number of uses/clusters for the set of target words in documents\n",
    "u=[use[0] for use in usage]\n",
    "fileData['uses']=u"
   ]
  },
  {
   "cell_type": "code",
   "execution_count": 30,
   "metadata": {
    "collapsed": true
   },
   "outputs": [],
   "source": [
    "# Extracts the average number of uses/clusters normalized by number of occurrences\n",
    "u=[use[1] for use in usage]\n",
    "fileData['uses_normalized']=u"
   ]
  }
 ],
 "metadata": {
  "anaconda-cloud": {},
  "kernelspec": {
   "display_name": "Python [rel35]",
   "language": "python",
   "name": "Python [rel35]"
  },
  "language_info": {
   "codemirror_mode": {
    "name": "ipython",
    "version": 3
   },
   "file_extension": ".py",
   "mimetype": "text/x-python",
   "name": "python",
   "nbconvert_exporter": "python",
   "pygments_lexer": "ipython3",
   "version": "3.5.2"
  }
 },
 "nbformat": 4,
 "nbformat_minor": 0
}
