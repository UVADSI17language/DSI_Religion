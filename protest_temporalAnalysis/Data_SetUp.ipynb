{
 "cells": [
  {
   "cell_type": "markdown",
   "metadata": {},
   "source": [
    "# Preparing WBC Data and NYT LM "
   ]
  },
  {
   "cell_type": "markdown",
   "metadata": {},
   "source": [
    "Python 2.4"
   ]
  },
  {
   "cell_type": "code",
   "execution_count": 2,
   "metadata": {
    "collapsed": false
   },
   "outputs": [],
   "source": [
    "import pandas as pd\n",
    "import xml.etree.ElementTree as ET\n",
    "import os, sys\n",
    "import numpy as np\n",
    "import pandas as pd\n",
    "import re\n",
    "import random\n",
    "import nltk\n",
    "tokenizer = nltk.tokenize.treebank.TreebankWordTokenizer()\n",
    "\n",
    "# Sklearn\n",
    "from sklearn.metrics import accuracy_score\n",
    "from sklearn.metrics import confusion_matrix"
   ]
  },
  {
   "cell_type": "code",
   "execution_count": 3,
   "metadata": {
    "collapsed": false
   },
   "outputs": [],
   "source": [
    "os.chdir('../python')"
   ]
  },
  {
   "cell_type": "code",
   "execution_count": 4,
   "metadata": {
    "collapsed": false
   },
   "outputs": [],
   "source": [
    "import semanticDensity as sd"
   ]
  },
  {
   "cell_type": "code",
   "execution_count": null,
   "metadata": {
    "collapsed": true
   },
   "outputs": [],
   "source": []
  },
  {
   "cell_type": "markdown",
   "metadata": {},
   "source": [
    "Read in Sample of News Articles"
   ]
  },
  {
   "cell_type": "code",
   "execution_count": 95,
   "metadata": {
    "collapsed": true
   },
   "outputs": [],
   "source": [
    "articleLoc = '/Volumes/Seagate Backup Plus Drive/NYT_GerberSample/news_documents.xml'"
   ]
  },
  {
   "cell_type": "code",
   "execution_count": 98,
   "metadata": {
    "collapsed": false
   },
   "outputs": [],
   "source": [
    "def parse_xml(file, key, columnTitles):\n",
    "    #create empty dictionary\n",
    "    productRow = {}\n",
    "\n",
    "    #create list that will store the single dataframe rows\n",
    "    rows = []\n",
    "\n",
    "    #read in file noting when tags begin or end\n",
    "    for event, element in ET.iterparse(file, events=(\"start\", \"end\")):\n",
    "\n",
    "    #get current product\n",
    "        if event == \"start\" and element.tag == key:\n",
    "            productRow = {} # dictionary on current row\n",
    "\n",
    "        for title in columnTitles: #for each tag in the xml\n",
    "            if event == \"end\" and element.tag == title: #if a <\\TITLE> is present, then add\n",
    "                productRow[title] = element.text #add to dictionary\n",
    "\n",
    "    #done adding values - now append\n",
    "        if event == \"end\" and element.tag == columnTitles[len(columnTitles)-1]:\n",
    "            rows.append(productRow) #append to list of rows\n",
    "\n",
    "    #create pandas dataframe with column names of tags\n",
    "    frame = pd.DataFrame.from_records(rows, columns=columnTitles)\n",
    "    return frame\n"
   ]
  },
  {
   "cell_type": "code",
   "execution_count": 99,
   "metadata": {
    "collapsed": false
   },
   "outputs": [],
   "source": [
    "data = parse_xml(articleLoc, 'doc', ['id','t','d','c'])"
   ]
  },
  {
   "cell_type": "code",
   "execution_count": 100,
   "metadata": {
    "collapsed": false
   },
   "outputs": [],
   "source": [
    "data.columns = ['id','title','date','content']"
   ]
  },
  {
   "cell_type": "markdown",
   "metadata": {},
   "source": [
    "### Build Metadata File for WBC Sermons"
   ]
  },
  {
   "cell_type": "code",
   "execution_count": 7,
   "metadata": {
    "collapsed": true
   },
   "outputs": [],
   "source": [
    "dataloc = '/Users/hopeemac/Documents/Code/GIT/DSI_Religion/data_dsicap/WBC/raw/'"
   ]
  },
  {
   "cell_type": "code",
   "execution_count": 8,
   "metadata": {
    "collapsed": false
   },
   "outputs": [],
   "source": [
    "files = os.listdir(dataloc)"
   ]
  },
  {
   "cell_type": "code",
   "execution_count": 9,
   "metadata": {
    "collapsed": true
   },
   "outputs": [],
   "source": [
    "files = [file for file in files if '.txt' in file]"
   ]
  },
  {
   "cell_type": "code",
   "execution_count": 10,
   "metadata": {
    "collapsed": false
   },
   "outputs": [],
   "source": [
    "fileData = pd.DataFrame(files, columns = ['fileName'])"
   ]
  },
  {
   "cell_type": "code",
   "execution_count": 11,
   "metadata": {
    "collapsed": false
   },
   "outputs": [],
   "source": [
    "temp = [file.split('_')[2][0:8] for file in files]"
   ]
  },
  {
   "cell_type": "code",
   "execution_count": 12,
   "metadata": {
    "collapsed": false
   },
   "outputs": [],
   "source": [
    "fileData['date'] = temp"
   ]
  },
  {
   "cell_type": "code",
   "execution_count": 13,
   "metadata": {
    "collapsed": false
   },
   "outputs": [
    {
     "data": {
      "text/html": [
       "<div>\n",
       "<table border=\"1\" class=\"dataframe\">\n",
       "  <thead>\n",
       "    <tr style=\"text-align: right;\">\n",
       "      <th></th>\n",
       "      <th>fileName</th>\n",
       "      <th>date</th>\n",
       "    </tr>\n",
       "  </thead>\n",
       "  <tbody>\n",
       "    <tr>\n",
       "      <th>0</th>\n",
       "      <td>WestboroBaptist_Sermon_20070527.pdf.txt</td>\n",
       "      <td>20070527</td>\n",
       "    </tr>\n",
       "    <tr>\n",
       "      <th>1</th>\n",
       "      <td>WestboroBaptist_Sermon_20070624.pdf.txt</td>\n",
       "      <td>20070624</td>\n",
       "    </tr>\n",
       "    <tr>\n",
       "      <th>2</th>\n",
       "      <td>WestboroBaptist_Sermon_20070701.pdf.txt</td>\n",
       "      <td>20070701</td>\n",
       "    </tr>\n",
       "    <tr>\n",
       "      <th>3</th>\n",
       "      <td>WestboroBaptist_Sermon_20070708.pdf.txt</td>\n",
       "      <td>20070708</td>\n",
       "    </tr>\n",
       "    <tr>\n",
       "      <th>4</th>\n",
       "      <td>WestboroBaptist_Sermon_20070715.pdf.txt</td>\n",
       "      <td>20070715</td>\n",
       "    </tr>\n",
       "  </tbody>\n",
       "</table>\n",
       "</div>"
      ],
      "text/plain": [
       "                                  fileName      date\n",
       "0  WestboroBaptist_Sermon_20070527.pdf.txt  20070527\n",
       "1  WestboroBaptist_Sermon_20070624.pdf.txt  20070624\n",
       "2  WestboroBaptist_Sermon_20070701.pdf.txt  20070701\n",
       "3  WestboroBaptist_Sermon_20070708.pdf.txt  20070708\n",
       "4  WestboroBaptist_Sermon_20070715.pdf.txt  20070715"
      ]
     },
     "execution_count": 13,
     "metadata": {},
     "output_type": "execute_result"
    }
   ],
   "source": [
    "fileData[0:5]"
   ]
  },
  {
   "cell_type": "markdown",
   "metadata": {},
   "source": [
    "Set up Protest Data (Random for now)"
   ]
  },
  {
   "cell_type": "code",
   "execution_count": 14,
   "metadata": {
    "collapsed": false
   },
   "outputs": [],
   "source": [
    "protests = ([1]*48 + [0]*(len(fileData)-48))"
   ]
  },
  {
   "cell_type": "code",
   "execution_count": 15,
   "metadata": {
    "collapsed": false
   },
   "outputs": [],
   "source": [
    "random.shuffle(protests)"
   ]
  },
  {
   "cell_type": "code",
   "execution_count": 16,
   "metadata": {
    "collapsed": true
   },
   "outputs": [],
   "source": [
    "fileData['protest'] = protests"
   ]
  },
  {
   "cell_type": "code",
   "execution_count": 110,
   "metadata": {
    "collapsed": false
   },
   "outputs": [],
   "source": [
    "tokenLists = {file: tokenize(dataloc, file) for file in fileData.fileName}"
   ]
  },
  {
   "cell_type": "code",
   "execution_count": 111,
   "metadata": {
    "collapsed": false
   },
   "outputs": [],
   "source": [
    "tokenLists = {file: clean_text(tokenLists[file]) for file in fileData.fileName}"
   ]
  },
  {
   "cell_type": "code",
   "execution_count": 112,
   "metadata": {
    "collapsed": false
   },
   "outputs": [
    {
     "data": {
      "text/plain": [
       "['sunday',\n",
       " ',',\n",
       " 'may',\n",
       " 'NUM',\n",
       " ',',\n",
       " 'NUM',\n",
       " 'page',\n",
       " 'NUM',\n",
       " 'sermon',\n",
       " 'outline',\n",
       " '``',\n",
       " 'away',\n",
       " 'with',\n",
       " 'such',\n",
       " 'a',\n",
       " 'fellow',\n",
       " 'from',\n",
       " 'the',\n",
       " 'earth',\n",
       " ';',\n",
       " 'for',\n",
       " 'it',\n",
       " 'is',\n",
       " 'not',\n",
       " 'fit',\n",
       " 'that',\n",
       " 'he',\n",
       " 'should',\n",
       " 'live.',\n",
       " \"''\",\n",
       " 'acts',\n",
       " 'NUM:NUM.',\n",
       " 'according',\n",
       " 'to',\n",
       " 'friday',\n",
       " 'c-j',\n",
       " 'paper',\n",
       " ',',\n",
       " 'some',\n",
       " 'are',\n",
       " 'talking',\n",
       " 'about',\n",
       " 'a',\n",
       " 'petition',\n",
       " 'demanding',\n",
       " 'phelps',\n",
       " 'be',\n",
       " 'ousted',\n",
       " 'from',\n",
       " 'kansas.',\n",
       " 'a',\n",
       " 'sort',\n",
       " 'of',\n",
       " 'persona',\n",
       " 'non',\n",
       " 'grata',\n",
       " ',',\n",
       " 'like',\n",
       " 'they',\n",
       " 'did',\n",
       " 'in',\n",
       " 'canada',\n",
       " '\\xad',\n",
       " 'and',\n",
       " 'everywhere',\n",
       " 'else',\n",
       " 'if',\n",
       " 'they',\n",
       " 'get',\n",
       " 'the',\n",
       " 'chance.',\n",
       " 'beloved',\n",
       " ',',\n",
       " 'we',\n",
       " \"'re\",\n",
       " 'in',\n",
       " 'good',\n",
       " 'company',\n",
       " ';',\n",
       " 'this',\n",
       " 'is',\n",
       " 'more',\n",
       " 'evidence',\n",
       " 'our',\n",
       " 'ministry',\n",
       " 'is',\n",
       " 'of',\n",
       " 'god',\n",
       " 'and',\n",
       " 'our',\n",
       " 'calling',\n",
       " 'and',\n",
       " 'election',\n",
       " 'is',\n",
       " 'sure.',\n",
       " 'NUM',\n",
       " 'pet.',\n",
       " 'NUM:NUM.',\n",
       " 'the',\n",
       " 'mob',\n",
       " 'said',\n",
       " 'of',\n",
       " 'paul',\n",
       " ':',\n",
       " '``',\n",
       " 'away',\n",
       " 'with',\n",
       " 'such',\n",
       " 'a',\n",
       " 'fellow',\n",
       " 'from',\n",
       " 'the',\n",
       " 'earth',\n",
       " ';',\n",
       " 'for',\n",
       " 'it',\n",
       " 'is',\n",
       " 'not',\n",
       " 'fit',\n",
       " 'that',\n",
       " 'he',\n",
       " 'should',\n",
       " 'live.',\n",
       " \"''\",\n",
       " 'acts',\n",
       " 'NUM:NUM.',\n",
       " 'of',\n",
       " 'him',\n",
       " 'christ',\n",
       " 'said',\n",
       " ':',\n",
       " '``',\n",
       " 'but',\n",
       " 'his',\n",
       " 'citizens',\n",
       " 'hated',\n",
       " 'him',\n",
       " ',',\n",
       " 'and',\n",
       " 'sent',\n",
       " 'a',\n",
       " 'message',\n",
       " 'after',\n",
       " 'him',\n",
       " ',',\n",
       " 'saying',\n",
       " ',',\n",
       " 'we',\n",
       " 'will',\n",
       " 'not',\n",
       " 'have',\n",
       " 'this',\n",
       " 'man',\n",
       " '(',\n",
       " 'christ',\n",
       " ')',\n",
       " 'to',\n",
       " 'reign',\n",
       " 'over',\n",
       " 'us.',\n",
       " \"''\",\n",
       " 'luke',\n",
       " 'NUM:NUM.',\n",
       " '``',\n",
       " 'but',\n",
       " 'his',\n",
       " 'citizens',\n",
       " 'hated',\n",
       " 'him',\n",
       " ',',\n",
       " 'and',\n",
       " 'sent',\n",
       " 'a',\n",
       " 'message',\n",
       " 'after',\n",
       " 'him',\n",
       " ',',\n",
       " 'saying',\n",
       " ',',\n",
       " 'we',\n",
       " 'will',\n",
       " 'not',\n",
       " 'have',\n",
       " 'this',\n",
       " 'man',\n",
       " '(',\n",
       " 'christ',\n",
       " ')',\n",
       " 'to',\n",
       " 'reign',\n",
       " 'over',\n",
       " 'us.',\n",
       " \"''\",\n",
       " 'luke',\n",
       " 'NUM:NUM.',\n",
       " 'america',\n",
       " 'is',\n",
       " 'a',\n",
       " 'nation',\n",
       " 'of',\n",
       " 'sodomite',\n",
       " 'pagan',\n",
       " 'idolaters',\n",
       " ',',\n",
       " 'worshiping',\n",
       " 'a',\n",
       " 'flag',\n",
       " 'and',\n",
       " 'worshiping',\n",
       " 'the',\n",
       " 'dead',\n",
       " '\\xad',\n",
       " 'the',\n",
       " 'dunghill',\n",
       " 'gods',\n",
       " 'of',\n",
       " 'ancient',\n",
       " 'sodom.',\n",
       " 'it',\n",
       " 'is',\n",
       " 'no',\n",
       " 'coincidence',\n",
       " 'that',\n",
       " 'our',\n",
       " 'sovereign',\n",
       " 'god',\n",
       " 'decreed',\n",
       " 'the',\n",
       " 'beginning',\n",
       " 'of',\n",
       " 'our',\n",
       " 'miraculous',\n",
       " 'street',\n",
       " 'ministry',\n",
       " 'at',\n",
       " 'the',\n",
       " 'time',\n",
       " 'of',\n",
       " 'america',\n",
       " \"'s\",\n",
       " 'national',\n",
       " 'orgy',\n",
       " 'of',\n",
       " 'idolatrous',\n",
       " 'patriotism',\n",
       " 'called',\n",
       " 'memorial',\n",
       " 'day.',\n",
       " 'dr.',\n",
       " 'samuel',\n",
       " 'johnson',\n",
       " 'said',\n",
       " 'patriotism',\n",
       " 'is',\n",
       " 'the',\n",
       " 'last',\n",
       " 'refuge',\n",
       " 'of',\n",
       " 'a',\n",
       " 'scoundrel.',\n",
       " 'america',\n",
       " 'is',\n",
       " 'a',\n",
       " 'nation',\n",
       " 'of',\n",
       " 'fag-enabling',\n",
       " 'scoundrels.',\n",
       " 'other',\n",
       " 'american',\n",
       " 'antichrist',\n",
       " 'orgies',\n",
       " 'include',\n",
       " 'july',\n",
       " 'NUM',\n",
       " ',',\n",
       " 'flag',\n",
       " 'day',\n",
       " ',',\n",
       " 'armed',\n",
       " 'forces',\n",
       " 'day',\n",
       " ',',\n",
       " 'veterans',\n",
       " 'day',\n",
       " ',',\n",
       " 'constitution',\n",
       " 'day',\n",
       " ',',\n",
       " 'law',\n",
       " 'day',\n",
       " ',',\n",
       " 'etc.',\n",
       " ',',\n",
       " 'you',\n",
       " 'name',\n",
       " 'it',\n",
       " ',',\n",
       " 'we',\n",
       " 'picket',\n",
       " 'it.',\n",
       " 'this',\n",
       " 'week',\n",
       " 'marks',\n",
       " 'the',\n",
       " 'end',\n",
       " 'of',\n",
       " 'NUM',\n",
       " 'years',\n",
       " 'of',\n",
       " 'daily',\n",
       " 'picketing',\n",
       " 'on',\n",
       " 'the',\n",
       " 'mean',\n",
       " 'streets',\n",
       " 'of',\n",
       " 'fagdominated',\n",
       " 'america',\n",
       " '\\xad',\n",
       " 'an',\n",
       " 'amazing',\n",
       " 'feat',\n",
       " 'probably',\n",
       " 'unequaled',\n",
       " 'in',\n",
       " 'all',\n",
       " 'human',\n",
       " 'history.',\n",
       " 'certainly',\n",
       " 'a',\n",
       " 'product',\n",
       " 'of',\n",
       " 'daily',\n",
       " 'miracles',\n",
       " ',',\n",
       " 'directly',\n",
       " 'at',\n",
       " 'the',\n",
       " 'hands',\n",
       " 'of',\n",
       " 'a',\n",
       " 'sovereign',\n",
       " 'god.',\n",
       " 'all',\n",
       " 'NUM',\n",
       " 'states.',\n",
       " 'NUM+',\n",
       " 'cities.',\n",
       " 'NUM,NUM+',\n",
       " 'pickets.',\n",
       " 'all',\n",
       " 'documented.',\n",
       " 'warning',\n",
       " 'america',\n",
       " 'of',\n",
       " 'her',\n",
       " 'sodomite',\n",
       " 'doom.',\n",
       " 'america',\n",
       " '\\xad',\n",
       " 'land',\n",
       " 'of',\n",
       " 'the',\n",
       " 'sodomite',\n",
       " 'damned.',\n",
       " 'beloved',\n",
       " ',',\n",
       " 'god',\n",
       " 'has',\n",
       " 'counted',\n",
       " 'us',\n",
       " 'faithful',\n",
       " 'putting',\n",
       " 'us',\n",
       " 'in',\n",
       " 'this',\n",
       " 'ministry.',\n",
       " 'next',\n",
       " 'sunday',\n",
       " 'we',\n",
       " 'begin',\n",
       " 'our',\n",
       " 'NUMth',\n",
       " 'year',\n",
       " 'in',\n",
       " 'this',\n",
       " 'blessed',\n",
       " 'service',\n",
       " '\\xad',\n",
       " 'all',\n",
       " 'for',\n",
       " 'the',\n",
       " 'love',\n",
       " 'that',\n",
       " 'we',\n",
       " 'bear',\n",
       " 'for',\n",
       " 'the',\n",
       " 'king',\n",
       " 'of',\n",
       " 'the',\n",
       " 'place.',\n",
       " 'the',\n",
       " 'commission',\n",
       " 'he',\n",
       " 'gave',\n",
       " 'us',\n",
       " 'is',\n",
       " 'still',\n",
       " 'good.',\n",
       " '``',\n",
       " 'bomb',\n",
       " 'plot',\n",
       " 'against',\n",
       " 'fred',\n",
       " 'phelps',\n",
       " 'clan',\n",
       " 'foiled.',\n",
       " \"''\",\n",
       " 'last',\n",
       " 'tuesday',\n",
       " ',',\n",
       " 'may',\n",
       " 'NUM',\n",
       " ',',\n",
       " 'as',\n",
       " 'we',\n",
       " 'picketed',\n",
       " 'jerry',\n",
       " 'falwell',\n",
       " \"'s\",\n",
       " 'funeral',\n",
       " 'at',\n",
       " 'the',\n",
       " 'thomas',\n",
       " 'road',\n",
       " 'baptist',\n",
       " 'church',\n",
       " 'in',\n",
       " 'lynchburg',\n",
       " ',',\n",
       " 'virginia',\n",
       " ',',\n",
       " 'we',\n",
       " 'noticed',\n",
       " 'heightened',\n",
       " 'police',\n",
       " 'activity',\n",
       " ',',\n",
       " 'and',\n",
       " 'found',\n",
       " 'out',\n",
       " 'later',\n",
       " 'there',\n",
       " 'was',\n",
       " 'a',\n",
       " 'bomb',\n",
       " 'plot',\n",
       " 'against',\n",
       " 'wbc',\n",
       " 'by',\n",
       " 'army',\n",
       " 'and',\n",
       " 'rotc',\n",
       " 'terrorists',\n",
       " 'led',\n",
       " 'by',\n",
       " 'a',\n",
       " 'wonderful',\n",
       " 'flag-waving',\n",
       " 'patriot',\n",
       " '\\xad',\n",
       " 'police',\n",
       " 'identified',\n",
       " 'as',\n",
       " 'mark',\n",
       " 'david',\n",
       " 'uhl',\n",
       " ',',\n",
       " 'NUM\\xada',\n",
       " 'student',\n",
       " 'at',\n",
       " 'falwell',\n",
       " \"'s\",\n",
       " 'liberty',\n",
       " 'university\\xadstudying',\n",
       " 'to',\n",
       " 'become',\n",
       " 'an',\n",
       " 'army',\n",
       " 'chaplain.',\n",
       " 'they',\n",
       " 'found',\n",
       " 'NUM',\n",
       " 'or',\n",
       " 'NUM',\n",
       " 'home-made',\n",
       " 'bombs',\n",
       " 'in',\n",
       " 'his',\n",
       " 'car',\n",
       " '\\xad',\n",
       " 'ieds',\n",
       " '(',\n",
       " 'improvised',\n",
       " 'explosive',\n",
       " 'devices',\n",
       " ')',\n",
       " ',',\n",
       " 'like',\n",
       " 'those',\n",
       " 'used',\n",
       " 'by',\n",
       " 'american',\n",
       " 'terrorists',\n",
       " 'to',\n",
       " 'bomb',\n",
       " 'wbc',\n",
       " 'in',\n",
       " 'topeka',\n",
       " 'in',\n",
       " 'the',\n",
       " 'past',\n",
       " ',',\n",
       " 'and',\n",
       " 'like',\n",
       " 'those',\n",
       " 'used',\n",
       " 'by',\n",
       " 'god',\n",
       " 'sunday',\n",
       " ',',\n",
       " 'may',\n",
       " 'NUM',\n",
       " ',',\n",
       " 'NUM',\n",
       " 'page',\n",
       " 'NUM',\n",
       " 'sermon',\n",
       " 'outline',\n",
       " 'almighty',\n",
       " 'in',\n",
       " 'iraq',\n",
       " 'in',\n",
       " 'revenge',\n",
       " 'against',\n",
       " 'america',\n",
       " ',',\n",
       " 'sending',\n",
       " 'thousands',\n",
       " 'of',\n",
       " 'american',\n",
       " 'kids',\n",
       " 'home',\n",
       " 'in',\n",
       " 'body',\n",
       " 'bags',\n",
       " ',',\n",
       " 'and',\n",
       " 'many',\n",
       " 'thousands',\n",
       " 'more',\n",
       " 'home',\n",
       " 'as',\n",
       " 'helpless',\n",
       " ',',\n",
       " 'hopeless',\n",
       " 'multiple',\n",
       " 'amputees',\n",
       " 'and',\n",
       " 'cripples',\n",
       " 'hideously',\n",
       " 'maimed',\n",
       " 'for',\n",
       " 'life',\n",
       " ',',\n",
       " 'their',\n",
       " 'minds',\n",
       " 'and',\n",
       " 'bodies',\n",
       " 'forever',\n",
       " 'destroyed.',\n",
       " 'when',\n",
       " 'will',\n",
       " 'you',\n",
       " 'learn',\n",
       " '?',\n",
       " 'america',\n",
       " 'has',\n",
       " 'become',\n",
       " 'wbc',\n",
       " \"'s\",\n",
       " 'terrorist',\n",
       " '\\xad',\n",
       " 'for',\n",
       " 'NUM',\n",
       " 'years',\n",
       " 'committing',\n",
       " 'a',\n",
       " 'long',\n",
       " 'line',\n",
       " 'of',\n",
       " 'unsolved',\n",
       " ',',\n",
       " 'uninvestigated',\n",
       " ',',\n",
       " 'unpunished',\n",
       " 'violent',\n",
       " 'crimes',\n",
       " 'against',\n",
       " 'us',\n",
       " '\\xad',\n",
       " 'so',\n",
       " 'now',\n",
       " 'god',\n",
       " 'has',\n",
       " 'become',\n",
       " 'america',\n",
       " \"'s\",\n",
       " 'terrorist.',\n",
       " 'america',\n",
       " '\\xad',\n",
       " 'land',\n",
       " 'of',\n",
       " 'the',\n",
       " 'sodomite',\n",
       " 'damned',\n",
       " '\\xad',\n",
       " 'cursed',\n",
       " 'of',\n",
       " 'god',\n",
       " 'and',\n",
       " 'doomed.',\n",
       " 'god',\n",
       " 'hates',\n",
       " 'america.',\n",
       " 'persecuting',\n",
       " 'wbc',\n",
       " 'for',\n",
       " 'warning',\n",
       " 'you',\n",
       " 'about',\n",
       " 'fag',\n",
       " 'sins',\n",
       " 'is',\n",
       " 'pouring',\n",
       " 'gasoline',\n",
       " 'on',\n",
       " 'the',\n",
       " 'fires',\n",
       " 'of',\n",
       " 'god',\n",
       " \"'s\",\n",
       " 'wrath.',\n",
       " 'here',\n",
       " \"'s\",\n",
       " 'one',\n",
       " 'of',\n",
       " 'thousands',\n",
       " 'of',\n",
       " 'bible',\n",
       " 'passages',\n",
       " 'confirming',\n",
       " 'wbc',\n",
       " \"'s\",\n",
       " 'message',\n",
       " ':',\n",
       " '``',\n",
       " 'and',\n",
       " 'shall',\n",
       " 'not',\n",
       " 'god',\n",
       " 'avenge',\n",
       " 'his',\n",
       " 'own',\n",
       " 'elect',\n",
       " ',',\n",
       " 'which',\n",
       " 'cry',\n",
       " 'day',\n",
       " 'and',\n",
       " 'night',\n",
       " 'unto',\n",
       " 'him',\n",
       " ',',\n",
       " 'though',\n",
       " 'he',\n",
       " 'bear',\n",
       " 'long',\n",
       " 'with',\n",
       " 'them',\n",
       " '?',\n",
       " 'i',\n",
       " 'tell',\n",
       " 'you',\n",
       " 'that',\n",
       " 'he',\n",
       " 'will',\n",
       " 'avenge',\n",
       " 'them',\n",
       " 'speedily.',\n",
       " \"''\",\n",
       " 'luke.',\n",
       " 'NUM:NUM',\n",
       " ',',\n",
       " 'NUM.',\n",
       " 'mind',\n",
       " 'you',\n",
       " ',',\n",
       " 'this',\n",
       " 'is',\n",
       " 'the',\n",
       " 'loving',\n",
       " 'lord',\n",
       " 'jesus',\n",
       " 'christ',\n",
       " 'talking',\n",
       " 'about',\n",
       " 'god',\n",
       " 'avenging',\n",
       " 'his',\n",
       " 'people.',\n",
       " 'you',\n",
       " 'better',\n",
       " 'quit',\n",
       " 'lying',\n",
       " 'about',\n",
       " 'and',\n",
       " 'malinterpreting',\n",
       " 'john.',\n",
       " 'NUM:NUM.',\n",
       " 'you',\n",
       " 'better',\n",
       " 'read',\n",
       " 'the',\n",
       " 'rest',\n",
       " 'of',\n",
       " 'that',\n",
       " 'passage',\n",
       " ',',\n",
       " 'and',\n",
       " 'see',\n",
       " 'that',\n",
       " 'you',\n",
       " 'are',\n",
       " 'condemned',\n",
       " '(',\n",
       " 'damned',\n",
       " 'to',\n",
       " 'hell',\n",
       " 'forever',\n",
       " ')',\n",
       " 'already',\n",
       " ':',\n",
       " '``',\n",
       " 'and',\n",
       " 'this',\n",
       " 'is',\n",
       " 'the',\n",
       " 'condemnation',\n",
       " '(',\n",
       " 'why',\n",
       " 'you',\n",
       " 'are',\n",
       " 'damned',\n",
       " 'to',\n",
       " 'hell',\n",
       " 'already',\n",
       " ')',\n",
       " ',',\n",
       " 'that',\n",
       " 'light',\n",
       " 'is',\n",
       " 'come',\n",
       " 'into',\n",
       " 'the',\n",
       " 'world',\n",
       " '(',\n",
       " 'i.e.',\n",
       " ',',\n",
       " 'god',\n",
       " 'has',\n",
       " 'sent',\n",
       " 'wbc',\n",
       " 'to',\n",
       " 'preach',\n",
       " 'the',\n",
       " 'truth',\n",
       " 'to',\n",
       " 'you',\n",
       " ')',\n",
       " ',',\n",
       " 'and',\n",
       " 'you',\n",
       " 'loved',\n",
       " 'darkness',\n",
       " 'rather',\n",
       " 'than',\n",
       " 'light',\n",
       " ',',\n",
       " 'because',\n",
       " 'your',\n",
       " 'deeds',\n",
       " 'are',\n",
       " 'evil',\n",
       " '(',\n",
       " 'i.e.',\n",
       " ',',\n",
       " 'you',\n",
       " 'are',\n",
       " 'a',\n",
       " 'filthy',\n",
       " 'practicing',\n",
       " 'fag',\n",
       " ',',\n",
       " 'or',\n",
       " ',',\n",
       " 'which',\n",
       " 'is',\n",
       " 'worse',\n",
       " ',',\n",
       " 'you',\n",
       " 'are',\n",
       " 'a',\n",
       " 'fag-enabler',\n",
       " ')',\n",
       " '.',\n",
       " 'for',\n",
       " 'every',\n",
       " 'one',\n",
       " 'that',\n",
       " 'doeth',\n",
       " 'evil',\n",
       " '(',\n",
       " 'fags',\n",
       " 'and',\n",
       " 'fag-enablers',\n",
       " ')',\n",
       " 'hateth',\n",
       " 'the',\n",
       " 'light',\n",
       " '(',\n",
       " 'which',\n",
       " 'is',\n",
       " 'why',\n",
       " 'you',\n",
       " 'plot',\n",
       " 'to',\n",
       " 'kill',\n",
       " 'wbc',\n",
       " 'saints',\n",
       " ')',\n",
       " ',',\n",
       " 'neither',\n",
       " 'cometh',\n",
       " 'to',\n",
       " 'the',\n",
       " 'light',\n",
       " ',',\n",
       " 'lest',\n",
       " 'his',\n",
       " 'deeds',\n",
       " 'should',\n",
       " 'be',\n",
       " 'reproved',\n",
       " '(',\n",
       " 'wbc',\n",
       " \"'s\",\n",
       " 'words',\n",
       " 'of',\n",
       " 'god',\n",
       " \"'s\",\n",
       " 'only',\n",
       " 'and',\n",
       " 'absolute',\n",
       " 'truth',\n",
       " 'reprove',\n",
       " 'your',\n",
       " 'hell-bound',\n",
       " 'soul',\n",
       " ',',\n",
       " 'and',\n",
       " 'that',\n",
       " \"'s\",\n",
       " 'what',\n",
       " 'tears',\n",
       " 'you',\n",
       " 'up',\n",
       " ',',\n",
       " 'and',\n",
       " 'that',\n",
       " \"'s\",\n",
       " 'the',\n",
       " 'truthful',\n",
       " 'explanation',\n",
       " 'for',\n",
       " 'your',\n",
       " 'bombs',\n",
       " 'and',\n",
       " 'violence',\n",
       " 'designed',\n",
       " 'to',\n",
       " 'kill',\n",
       " 'and',\n",
       " 'destroy',\n",
       " 'wbc',\n",
       " \"'s\",\n",
       " 'humble',\n",
       " 'servants',\n",
       " ')',\n",
       " '.',\n",
       " 'but',\n",
       " 'he',\n",
       " 'that',\n",
       " 'doeth',\n",
       " 'truth',\n",
       " 'cometh',\n",
       " 'to',\n",
       " 'the',\n",
       " 'light',\n",
       " ',',\n",
       " 'that',\n",
       " 'his',\n",
       " 'deeds',\n",
       " 'may',\n",
       " 'be',\n",
       " 'made',\n",
       " 'manifest',\n",
       " ',',\n",
       " 'that',\n",
       " 'they',\n",
       " 'are',\n",
       " 'wrought',\n",
       " 'in',\n",
       " 'god.',\n",
       " \"''\",\n",
       " 'jn.',\n",
       " 'NUM:NUM-NUM.',\n",
       " 'and',\n",
       " 'this',\n",
       " ':',\n",
       " '``',\n",
       " 'and',\n",
       " 'they',\n",
       " 'cried',\n",
       " 'with',\n",
       " 'a',\n",
       " 'loud',\n",
       " 'voice',\n",
       " ',',\n",
       " 'saying',\n",
       " ',',\n",
       " 'how',\n",
       " 'long',\n",
       " ',',\n",
       " 'o',\n",
       " 'lord',\n",
       " ',',\n",
       " 'holy',\n",
       " 'and',\n",
       " 'true',\n",
       " ',',\n",
       " 'dost',\n",
       " 'thou',\n",
       " 'not',\n",
       " 'judge',\n",
       " 'and',\n",
       " 'avenge',\n",
       " 'our',\n",
       " 'blood',\n",
       " 'on',\n",
       " 'them',\n",
       " 'that',\n",
       " 'dwell',\n",
       " 'on',\n",
       " 'the',\n",
       " 'earth',\n",
       " '?',\n",
       " \"''\",\n",
       " 'rev.',\n",
       " 'NUM:NUM.',\n",
       " 'for',\n",
       " 'many',\n",
       " 'months',\n",
       " 'now',\n",
       " ',',\n",
       " 'front',\n",
       " 'page',\n",
       " 'news',\n",
       " 'is',\n",
       " 'only',\n",
       " 'about',\n",
       " 'the',\n",
       " 'wrath',\n",
       " 'of',\n",
       " 'god.',\n",
       " 'hurricanes',\n",
       " ',',\n",
       " 'NUM/NUM',\n",
       " ',',\n",
       " ...]"
      ]
     },
     "execution_count": 112,
     "metadata": {},
     "output_type": "execute_result"
    }
   ],
   "source": [
    "tokenLists[files[0]]"
   ]
  },
  {
   "cell_type": "code",
   "execution_count": 28,
   "metadata": {
    "collapsed": false
   },
   "outputs": [],
   "source": [
    "counts = [count_words(tokenLists[key]) for key in tokenLists.keys()]"
   ]
  },
  {
   "cell_type": "code",
   "execution_count": 29,
   "metadata": {
    "collapsed": false
   },
   "outputs": [],
   "source": [
    "protest = [count_specific_words(tokenLists[key], 'protest') for key in tokenLists.keys()]"
   ]
  },
  {
   "cell_type": "code",
   "execution_count": 30,
   "metadata": {
    "collapsed": true
   },
   "outputs": [],
   "source": [
    "god = [count_specific_words(tokenLists[key], 'god') for key in tokenLists.keys()]"
   ]
  },
  {
   "cell_type": "code",
   "execution_count": 31,
   "metadata": {
    "collapsed": false
   },
   "outputs": [],
   "source": [
    "fileData['wordcount'] = counts"
   ]
  },
  {
   "cell_type": "code",
   "execution_count": 32,
   "metadata": {
    "collapsed": false
   },
   "outputs": [],
   "source": [
    "fileData['protest_word'] = protest"
   ]
  },
  {
   "cell_type": "code",
   "execution_count": 33,
   "metadata": {
    "collapsed": false
   },
   "outputs": [],
   "source": [
    "fileData['god'] = god"
   ]
  },
  {
   "cell_type": "code",
   "execution_count": 34,
   "metadata": {
    "collapsed": false
   },
   "outputs": [
    {
     "data": {
      "text/html": [
       "<div>\n",
       "<table border=\"1\" class=\"dataframe\">\n",
       "  <thead>\n",
       "    <tr style=\"text-align: right;\">\n",
       "      <th></th>\n",
       "      <th>fileName</th>\n",
       "      <th>date</th>\n",
       "      <th>protest</th>\n",
       "      <th>wordcount</th>\n",
       "      <th>protest_word</th>\n",
       "      <th>god</th>\n",
       "    </tr>\n",
       "  </thead>\n",
       "  <tbody>\n",
       "    <tr>\n",
       "      <th>0</th>\n",
       "      <td>WestboroBaptist_Sermon_20070527.pdf.txt</td>\n",
       "      <td>20070527</td>\n",
       "      <td>0</td>\n",
       "      <td>5770</td>\n",
       "      <td>0</td>\n",
       "      <td>72</td>\n",
       "    </tr>\n",
       "    <tr>\n",
       "      <th>1</th>\n",
       "      <td>WestboroBaptist_Sermon_20070624.pdf.txt</td>\n",
       "      <td>20070624</td>\n",
       "      <td>0</td>\n",
       "      <td>4586</td>\n",
       "      <td>0</td>\n",
       "      <td>26</td>\n",
       "    </tr>\n",
       "    <tr>\n",
       "      <th>2</th>\n",
       "      <td>WestboroBaptist_Sermon_20070701.pdf.txt</td>\n",
       "      <td>20070701</td>\n",
       "      <td>0</td>\n",
       "      <td>3487</td>\n",
       "      <td>0</td>\n",
       "      <td>10</td>\n",
       "    </tr>\n",
       "    <tr>\n",
       "      <th>3</th>\n",
       "      <td>WestboroBaptist_Sermon_20070708.pdf.txt</td>\n",
       "      <td>20070708</td>\n",
       "      <td>0</td>\n",
       "      <td>5642</td>\n",
       "      <td>0</td>\n",
       "      <td>32</td>\n",
       "    </tr>\n",
       "    <tr>\n",
       "      <th>4</th>\n",
       "      <td>WestboroBaptist_Sermon_20070715.pdf.txt</td>\n",
       "      <td>20070715</td>\n",
       "      <td>0</td>\n",
       "      <td>3171</td>\n",
       "      <td>0</td>\n",
       "      <td>19</td>\n",
       "    </tr>\n",
       "    <tr>\n",
       "      <th>5</th>\n",
       "      <td>WestboroBaptist_Sermon_20070722.pdf.txt</td>\n",
       "      <td>20070722</td>\n",
       "      <td>0</td>\n",
       "      <td>3459</td>\n",
       "      <td>0</td>\n",
       "      <td>18</td>\n",
       "    </tr>\n",
       "    <tr>\n",
       "      <th>6</th>\n",
       "      <td>WestboroBaptist_Sermon_20070729.pdf.txt</td>\n",
       "      <td>20070729</td>\n",
       "      <td>0</td>\n",
       "      <td>3285</td>\n",
       "      <td>0</td>\n",
       "      <td>35</td>\n",
       "    </tr>\n",
       "    <tr>\n",
       "      <th>7</th>\n",
       "      <td>WestboroBaptist_Sermon_20070805.pdf.txt</td>\n",
       "      <td>20070805</td>\n",
       "      <td>0</td>\n",
       "      <td>3633</td>\n",
       "      <td>0</td>\n",
       "      <td>36</td>\n",
       "    </tr>\n",
       "    <tr>\n",
       "      <th>8</th>\n",
       "      <td>WestboroBaptist_Sermon_20070812.pdf.txt</td>\n",
       "      <td>20070812</td>\n",
       "      <td>0</td>\n",
       "      <td>3407</td>\n",
       "      <td>0</td>\n",
       "      <td>35</td>\n",
       "    </tr>\n",
       "    <tr>\n",
       "      <th>9</th>\n",
       "      <td>WestboroBaptist_Sermon_20070819.pdf.txt</td>\n",
       "      <td>20070819</td>\n",
       "      <td>0</td>\n",
       "      <td>3342</td>\n",
       "      <td>0</td>\n",
       "      <td>8</td>\n",
       "    </tr>\n",
       "  </tbody>\n",
       "</table>\n",
       "</div>"
      ],
      "text/plain": [
       "                                  fileName      date  protest  wordcount  \\\n",
       "0  WestboroBaptist_Sermon_20070527.pdf.txt  20070527        0       5770   \n",
       "1  WestboroBaptist_Sermon_20070624.pdf.txt  20070624        0       4586   \n",
       "2  WestboroBaptist_Sermon_20070701.pdf.txt  20070701        0       3487   \n",
       "3  WestboroBaptist_Sermon_20070708.pdf.txt  20070708        0       5642   \n",
       "4  WestboroBaptist_Sermon_20070715.pdf.txt  20070715        0       3171   \n",
       "5  WestboroBaptist_Sermon_20070722.pdf.txt  20070722        0       3459   \n",
       "6  WestboroBaptist_Sermon_20070729.pdf.txt  20070729        0       3285   \n",
       "7  WestboroBaptist_Sermon_20070805.pdf.txt  20070805        0       3633   \n",
       "8  WestboroBaptist_Sermon_20070812.pdf.txt  20070812        0       3407   \n",
       "9  WestboroBaptist_Sermon_20070819.pdf.txt  20070819        0       3342   \n",
       "\n",
       "   protest_word  god  \n",
       "0             0   72  \n",
       "1             0   26  \n",
       "2             0   10  \n",
       "3             0   32  \n",
       "4             0   19  \n",
       "5             0   18  \n",
       "6             0   35  \n",
       "7             0   36  \n",
       "8             0   35  \n",
       "9             0    8  "
      ]
     },
     "execution_count": 34,
     "metadata": {},
     "output_type": "execute_result"
    }
   ],
   "source": [
    "fileData[0:10]"
   ]
  },
  {
   "cell_type": "markdown",
   "metadata": {},
   "source": [
    "## Semantic Density Signal w/ News"
   ]
  },
  {
   "cell_type": "code",
   "execution_count": 101,
   "metadata": {
    "collapsed": false
   },
   "outputs": [
    {
     "data": {
      "text/html": [
       "<div>\n",
       "<table border=\"1\" class=\"dataframe\">\n",
       "  <thead>\n",
       "    <tr style=\"text-align: right;\">\n",
       "      <th></th>\n",
       "      <th>id</th>\n",
       "      <th>title</th>\n",
       "      <th>date</th>\n",
       "      <th>content</th>\n",
       "    </tr>\n",
       "  </thead>\n",
       "  <tbody>\n",
       "    <tr>\n",
       "      <th>0</th>\n",
       "      <td>AFP_ENG_20041001.0001</td>\n",
       "      <td>URGENT US forces enter Samarra, seize city hal...</td>\n",
       "      <td>BAGHDAD, Oct 1 (AFP).</td>\n",
       "      <td>US and Iraqi forces poured into central Samarr...</td>\n",
       "    </tr>\n",
       "    <tr>\n",
       "      <th>1</th>\n",
       "      <td>AFP_ENG_20041001.0002</td>\n",
       "      <td>China's West to East pipeline carries first ga...</td>\n",
       "      <td>SHANGHAI, Oct 1 (AFP).</td>\n",
       "      <td>The eastern economic hub of Shanghai received ...</td>\n",
       "    </tr>\n",
       "    <tr>\n",
       "      <th>2</th>\n",
       "      <td>AFP_ENG_20041001.0003</td>\n",
       "      <td>Japan lobbies US for pullout by majors from Ch...</td>\n",
       "      <td>TOKYO, Oct 1 (AFP).</td>\n",
       "      <td>The Japanese government lobbied the US governm...</td>\n",
       "    </tr>\n",
       "    <tr>\n",
       "      <th>3</th>\n",
       "      <td>AFP_ENG_20041001.0004</td>\n",
       "      <td>US forces enter Samarra, seize city hall, poli...</td>\n",
       "      <td>BAGHDAD, Oct 1 (AFP).</td>\n",
       "      <td>US and Iraqi forces poured into central Samarr...</td>\n",
       "    </tr>\n",
       "    <tr>\n",
       "      <th>4</th>\n",
       "      <td>AFP_ENG_20041001.0005</td>\n",
       "      <td>Millions of Chinese on the move as week-long h...</td>\n",
       "      <td>BEIJING, Oct 1 (AFP).</td>\n",
       "      <td>Millions of Chinese were on the move Friday at...</td>\n",
       "    </tr>\n",
       "    <tr>\n",
       "      <th>5</th>\n",
       "      <td>AFP_ENG_20041001.0006</td>\n",
       "      <td>South Korea's biggest lender to post huge prof...</td>\n",
       "      <td>SEOUL, Oct 1 (AFP).</td>\n",
       "      <td>Kookmin Bank, South Korea's biggest retail ban...</td>\n",
       "    </tr>\n",
       "    <tr>\n",
       "      <th>6</th>\n",
       "      <td>AFP_ENG_20041001.0007</td>\n",
       "      <td>Michelin signs supply deal with China's Baoshan.</td>\n",
       "      <td>SHANGHAI, Oct 1 (AFP).</td>\n",
       "      <td>Global tyre manufacturer Michelin has signed a...</td>\n",
       "    </tr>\n",
       "    <tr>\n",
       "      <th>7</th>\n",
       "      <td>AFP_ENG_20041001.0008</td>\n",
       "      <td>Bush, Kerry, clash on Iraq in first debate.</td>\n",
       "      <td>CORAL GABLES, Florida, Sept 30 (AFP).</td>\n",
       "      <td>Senator John Kerry charged Thursday that Presi...</td>\n",
       "    </tr>\n",
       "    <tr>\n",
       "      <th>8</th>\n",
       "      <td>AFP_ENG_20041001.0009</td>\n",
       "      <td>\"We won\" the debate, Democrats crow, \"No, we d...</td>\n",
       "      <td>CORAL GABLES, Florida, Oct 1 (AFP).</td>\n",
       "      <td>Jubilant Democrats boasted late Thursday they ...</td>\n",
       "    </tr>\n",
       "    <tr>\n",
       "      <th>9</th>\n",
       "      <td>AFP_ENG_20041001.0010</td>\n",
       "      <td>Indonesia swears in new parliament.</td>\n",
       "      <td>JAKARTA, Oct 1 (AFP).</td>\n",
       "      <td>Indonesia took a confident step towards full d...</td>\n",
       "    </tr>\n",
       "  </tbody>\n",
       "</table>\n",
       "</div>"
      ],
      "text/plain": [
       "                      id                                              title  \\\n",
       "0  AFP_ENG_20041001.0001  URGENT US forces enter Samarra, seize city hal...   \n",
       "1  AFP_ENG_20041001.0002  China's West to East pipeline carries first ga...   \n",
       "2  AFP_ENG_20041001.0003  Japan lobbies US for pullout by majors from Ch...   \n",
       "3  AFP_ENG_20041001.0004  US forces enter Samarra, seize city hall, poli...   \n",
       "4  AFP_ENG_20041001.0005  Millions of Chinese on the move as week-long h...   \n",
       "5  AFP_ENG_20041001.0006  South Korea's biggest lender to post huge prof...   \n",
       "6  AFP_ENG_20041001.0007   Michelin signs supply deal with China's Baoshan.   \n",
       "7  AFP_ENG_20041001.0008        Bush, Kerry, clash on Iraq in first debate.   \n",
       "8  AFP_ENG_20041001.0009  \"We won\" the debate, Democrats crow, \"No, we d...   \n",
       "9  AFP_ENG_20041001.0010                Indonesia swears in new parliament.   \n",
       "\n",
       "                                    date  \\\n",
       "0                  BAGHDAD, Oct 1 (AFP).   \n",
       "1                 SHANGHAI, Oct 1 (AFP).   \n",
       "2                    TOKYO, Oct 1 (AFP).   \n",
       "3                  BAGHDAD, Oct 1 (AFP).   \n",
       "4                  BEIJING, Oct 1 (AFP).   \n",
       "5                    SEOUL, Oct 1 (AFP).   \n",
       "6                 SHANGHAI, Oct 1 (AFP).   \n",
       "7  CORAL GABLES, Florida, Sept 30 (AFP).   \n",
       "8    CORAL GABLES, Florida, Oct 1 (AFP).   \n",
       "9                  JAKARTA, Oct 1 (AFP).   \n",
       "\n",
       "                                             content  \n",
       "0  US and Iraqi forces poured into central Samarr...  \n",
       "1  The eastern economic hub of Shanghai received ...  \n",
       "2  The Japanese government lobbied the US governm...  \n",
       "3  US and Iraqi forces poured into central Samarr...  \n",
       "4  Millions of Chinese were on the move Friday at...  \n",
       "5  Kookmin Bank, South Korea's biggest retail ban...  \n",
       "6  Global tyre manufacturer Michelin has signed a...  \n",
       "7  Senator John Kerry charged Thursday that Presi...  \n",
       "8  Jubilant Democrats boasted late Thursday they ...  \n",
       "9  Indonesia took a confident step towards full d...  "
      ]
     },
     "execution_count": 101,
     "metadata": {},
     "output_type": "execute_result"
    }
   ],
   "source": [
    "data[0:10]"
   ]
  },
  {
   "cell_type": "markdown",
   "metadata": {},
   "source": [
    "Convert News Articles to Tokens and Pre-Process"
   ]
  },
  {
   "cell_type": "code",
   "execution_count": 104,
   "metadata": {
    "collapsed": false
   },
   "outputs": [],
   "source": [
    "newsTokenLists = {data.loc[rowID,'id']: tokenizer.tokenize(data.loc[rowID,'content']) for rowID in range(0,len(data))}"
   ]
  },
  {
   "cell_type": "code",
   "execution_count": 106,
   "metadata": {
    "collapsed": false
   },
   "outputs": [],
   "source": [
    "newsTokenLists = {data.loc[rowID,'id']: clean_text(newsTokenLists[data.loc[rowID,'id']]) for rowID in range(0,len(data))}"
   ]
  },
  {
   "cell_type": "code",
   "execution_count": 107,
   "metadata": {
    "collapsed": true
   },
   "outputs": [],
   "source": [
    "#Get word coCo for News Articles\n",
    "CoCo, TF, docTF = sd.coOccurence(newsTokenLists,k=2)"
   ]
  },
  {
   "cell_type": "code",
   "execution_count": 108,
   "metadata": {
    "collapsed": false
   },
   "outputs": [
    {
     "data": {
      "text/plain": [
       "32"
      ]
     },
     "execution_count": 108,
     "metadata": {},
     "output_type": "execute_result"
    }
   ],
   "source": [
    "TF['god']"
   ]
  },
  {
   "cell_type": "code",
   "execution_count": 109,
   "metadata": {
    "collapsed": true
   },
   "outputs": [],
   "source": [
    "#Get DSM for News Articles\n",
    "DSM=sd.DSM(CoCo,100)\n",
    "#pickle.dump(DSM,open(folderPath+'/testDSM.pickle', 'wb') )"
   ]
  },
  {
   "cell_type": "code",
   "execution_count": null,
   "metadata": {
    "collapsed": true
   },
   "outputs": [],
   "source": [
    "sampleFile = ''"
   ]
  },
  {
   "cell_type": "code",
   "execution_count": 149,
   "metadata": {
    "collapsed": false
   },
   "outputs": [],
   "source": [
    "# For a single WBC document, get the Context Vectors for Target Word\n",
    "CVDict=contextVectors(tokenLists[files[0]], DSM, ['god'], 2)\n",
    "\n",
    "\n",
    "# Get Cosine Similarity betwen target word vector in DSM and each context\n",
    "\n",
    "\n",
    "# Get average CoSim for all context == New Signal\n"
   ]
  },
  {
   "cell_type": "code",
   "execution_count": 156,
   "metadata": {
    "collapsed": false
   },
   "outputs": [
    {
     "data": {
      "text/plain": [
       "{0: 6.3293181405440784,\n",
       " 1: 3.8104580986275089,\n",
       " 2: 1.4601994754413039,\n",
       " 3: -0.49555745786210059,\n",
       " 4: 2.3141321594636293,\n",
       " 5: 0.48195377393478678,\n",
       " 6: -0.84795110931940754,\n",
       " 7: 0.55783261635080383,\n",
       " 8: 1.0694903887349028,\n",
       " 9: 0.73538719678735609,\n",
       " 10: 1.8881471594987862,\n",
       " 11: 0.32409265128215847,\n",
       " 12: 0.90174539702424061,\n",
       " 13: 1.8719298753212337,\n",
       " 14: 1.3522708748805181,\n",
       " 15: 1.4541632890122618,\n",
       " 16: 0.60618415923926039,\n",
       " 17: 0.42275572978924908,\n",
       " 18: 1.1473074853590444,\n",
       " 19: 0.80118185977204992,\n",
       " 20: 0.49847081032803342,\n",
       " 21: 1.1391957437786968,\n",
       " 22: 0.5236871884019606,\n",
       " 23: 0.89737786022235333,\n",
       " 24: 1.9786081048349589,\n",
       " 25: 0.17189646675120673,\n",
       " 26: 0.69944116146290225,\n",
       " 27: 0.33263740954422377,\n",
       " 28: 0.78757581715426972,\n",
       " 29: 1.5412756355651842,\n",
       " 30: 0.43166165522382915,\n",
       " 31: 1.1530235215494187,\n",
       " 32: 0.86465336093104295,\n",
       " 33: 0.6409580443119266,\n",
       " 34: 0.97846553542161097,\n",
       " 35: 0.78342292078357567,\n",
       " 36: 1.0828785273760104,\n",
       " 37: 1.1787168066766596,\n",
       " 38: 1.0807085870879516,\n",
       " 39: 0.66598183212477513,\n",
       " 40: 1.0884339508515017,\n",
       " 41: 1.2595654197070654,\n",
       " 42: 1.2285887950254144,\n",
       " 43: 1.2176279079168986,\n",
       " 44: 0.65830661609686203,\n",
       " 45: 1.0740404080664381,\n",
       " 46: 1.0679203301917009,\n",
       " 47: 1.0499919300477267,\n",
       " 48: 0.57827303399170915,\n",
       " 49: 0.71998156003968616,\n",
       " 50: 1.1119186059567063,\n",
       " 51: 1.4726017208880859,\n",
       " 52: 0.72999809579660568,\n",
       " 53: 0.60332124175165103,\n",
       " 54: 0.71035969714722158,\n",
       " 55: 0.92368207914010436,\n",
       " 56: 1.2431417963685651,\n",
       " 57: 1.276145179898692,\n",
       " 58: 0.95552654335167442,\n",
       " 59: 0.89672198567170003,\n",
       " 60: 1.0772211331964385,\n",
       " 61: 0.87819100929580207,\n",
       " 62: 1.0214045201075976,\n",
       " 63: 1.0858452407863926,\n",
       " 64: 0.94155134051160627,\n",
       " 65: 0.81474738739616404,\n",
       " 66: 1.1455213659053753,\n",
       " 67: 1.1762126648699178,\n",
       " 68: 0.92972797067566226,\n",
       " 69: 0.85295487042536355,\n",
       " 70: 0.86018469836042244,\n",
       " 71: 0.90783353470968942,\n",
       " 72: 0.91071638282924849,\n",
       " 73: 0.79617510780078837,\n",
       " 74: 0.90041207107234034,\n",
       " 75: 0.80816566893596631,\n",
       " 76: 0.76869190557810041,\n",
       " 77: 0.95381969306197978,\n",
       " 78: 1.1070003225240368,\n",
       " 79: 1.2764339025941036,\n",
       " 80: 1.0379707560206195,\n",
       " 81: 0.86285765332703313,\n",
       " 82: 0.98601401553322177,\n",
       " 83: 0.86078138264719584,\n",
       " 84: 1.0063808123189659,\n",
       " 85: 1.0389267504238371,\n",
       " 86: 0.86792421976160727,\n",
       " 87: 1.2021060336567444,\n",
       " 88: 1.0200490464399214,\n",
       " 89: 1.1560863492921793,\n",
       " 90: 0.90891523886387471,\n",
       " 91: 0.88543161814519367,\n",
       " 92: 0.91018388690369656,\n",
       " 93: 0.88182225611634357,\n",
       " 94: 0.9383225343818955,\n",
       " 95: 0.98233508798691338,\n",
       " 96: 1.0528280268999064,\n",
       " 97: 1.0430401609133197,\n",
       " 98: 1.0080702429910409,\n",
       " 99: 0.93331635376521416}"
      ]
     },
     "execution_count": 156,
     "metadata": {},
     "output_type": "execute_result"
    }
   ],
   "source": [
    "CVDict['god'][3]"
   ]
  },
  {
   "cell_type": "code",
   "execution_count": null,
   "metadata": {
    "collapsed": true
   },
   "outputs": [],
   "source": [
    "#Run cosine sim\n",
    "cosineSimilarity=sd.averageCosine(CVDict,subFileList,wordList,simCount)\n",
    "avgSD=np.mean([x[1] for x in cosineSimilarity])\n",
    "#pd.DataFrame(cosineSimilarity).to_csv(folderPath+'/contextVectors.csv')"
   ]
  },
  {
   "cell_type": "code",
   "execution_count": null,
   "metadata": {
    "collapsed": true
   },
   "outputs": [],
   "source": []
  },
  {
   "cell_type": "code",
   "execution_count": 148,
   "metadata": {
    "collapsed": true
   },
   "outputs": [],
   "source": [
    "#Define function to create context vectors\n",
    "def contextVectors(tokenList,dsm,wordlist,k):\n",
    "    \n",
    "    #Define coOccurence dict\n",
    "    cvDict={}\n",
    "\n",
    "    for i in range(len(tokenList)):\n",
    "        targetword=tokenList[i] # Changed window to targetword for more clarity\n",
    "        \n",
    "        if targetword in wordlist: \n",
    "            #Adjust window to contain words k in front or k behind\n",
    "            lowerBound=max(0,i-k)\n",
    "            upperBound=min(len(tokenList),i+k) # FIXED BUG HERE, SAME AS ABOVE ADD [FILENAME]\n",
    "            cvList=tokenList[lowerBound:i]+tokenList[i+1:upperBound+1]\n",
    "    \n",
    "\n",
    "            if targetword not in cvDict.keys():\n",
    "                cvDict[targetword]={}\n",
    "\n",
    "            #Create context vector            \n",
    "            contextVector={}\n",
    "\n",
    "            for word in cvList:\n",
    "                if word in dsm.keys():\n",
    "                    \n",
    "                    for key in dsm[word].keys(): # Need to Catch for Words in Window, but not in DSM                 \n",
    "                        #Update context vector\n",
    "                        try:\n",
    "                            contextVector[key]=contextVector[key]+dsm[word][key]\n",
    "                        except: # What is this except for?\n",
    "                            contextVector[key]=dsm[word][key]\n",
    "                else:\n",
    "                    for i in range(0,len(dsm[list(dsm.keys())[0]])):\n",
    "                        contextVector[i] = 1\n",
    "\n",
    "            #Add context vector to cvDict\n",
    "            cvIndex=len(cvDict[targetword])+1\n",
    "            cvDict[targetword][cvIndex]=contextVector\n",
    "    \n",
    "    #Return context vector dictionary\n",
    "    return(cvDict)"
   ]
  },
  {
   "cell_type": "markdown",
   "metadata": {},
   "source": [
    "## Methods"
   ]
  },
  {
   "cell_type": "code",
   "execution_count": 19,
   "metadata": {
    "collapsed": true
   },
   "outputs": [],
   "source": [
    "def tokenize(path2File, file):\n",
    "    tokens={}\n",
    "    # print(path2File+file)\n",
    "    #Clean raw text into token list\n",
    "    rawText=open(path2File+file).read()\n",
    "\n",
    "    #Update for encoding issues            \n",
    "    # rawText=unicode(rawText, \"utf-8\", errors=\"ignore\")\n",
    "    \n",
    "    #Tokenize\n",
    "    tokenList=tokenizer.tokenize(rawText)\n",
    "    \n",
    "    return tokenList"
   ]
  },
  {
   "cell_type": "code",
   "execution_count": 20,
   "metadata": {
    "collapsed": true
   },
   "outputs": [],
   "source": [
    "#Define tokenize function\n",
    "def clean_text(tokenList):\n",
    "    \n",
    "    #Convert all text to lower case\n",
    "    tokenList=[word.lower() for word in tokenList]\n",
    "\n",
    "    #Remove punctuation\n",
    "    #tokenList=[word for word in tokenList if word not in punctuation]\n",
    "    #tokenList=[\"\".join(c for c in word if c not in punctuation) for word in tokenList ]\n",
    "\n",
    "    #convert digits into NUM\n",
    "    tokenList=[re.sub(\"\\d+\", \"NUM\", word) for word in tokenList]  \n",
    "\n",
    "    #Stem words\n",
    "    #tokenList=[stemmer.stem(word) for word in tokenList]\n",
    "    #stemStopwords=[stemmer.stem(word) for word in stopWords]\n",
    "\n",
    "    #Remove blanks\n",
    "    tokenList=[word for word in tokenList if word!= ' ']\n",
    "\n",
    "    #Remove stopwords\n",
    "#            stemStopwords.append(\"\")\n",
    "#            tokenList=[word for word in tokenList if word not in stemStopwords]\n",
    "\n",
    "    #Return tokens\n",
    "    return(tokenList)"
   ]
  },
  {
   "cell_type": "code",
   "execution_count": 21,
   "metadata": {
    "collapsed": true
   },
   "outputs": [],
   "source": [
    "def count_words(tokenList):\n",
    "    count = 0\n",
    "    for token in tokenList:\n",
    "        count += 1\n",
    "    return count"
   ]
  },
  {
   "cell_type": "code",
   "execution_count": 22,
   "metadata": {
    "collapsed": true
   },
   "outputs": [],
   "source": [
    "def count_specific_words(tokenList, word):\n",
    "    count = 0\n",
    "    for token in tokenList:\n",
    "        if token == word:\n",
    "            count += 1\n",
    "    return count"
   ]
  },
  {
   "cell_type": "code",
   "execution_count": null,
   "metadata": {
    "collapsed": true
   },
   "outputs": [],
   "source": []
  },
  {
   "cell_type": "markdown",
   "metadata": {},
   "source": [
    "### Temporal Visualization"
   ]
  },
  {
   "cell_type": "code",
   "execution_count": 35,
   "metadata": {
    "collapsed": false
   },
   "outputs": [],
   "source": [
    "# Plotting\n",
    "import matplotlib as mpl\n",
    "import matplotlib.pyplot as plt\n",
    "%matplotlib inline"
   ]
  },
  {
   "cell_type": "code",
   "execution_count": 37,
   "metadata": {
    "collapsed": true
   },
   "outputs": [],
   "source": [
    "import datetime"
   ]
  },
  {
   "cell_type": "code",
   "execution_count": 38,
   "metadata": {
    "collapsed": false
   },
   "outputs": [],
   "source": [
    "dates_clean = [datetime.datetime.strptime(date,'%Y%m%d') for date in fileData.date]"
   ]
  },
  {
   "cell_type": "code",
   "execution_count": 39,
   "metadata": {
    "collapsed": true
   },
   "outputs": [],
   "source": [
    "fileData['date_clean'] = dates_clean"
   ]
  },
  {
   "cell_type": "code",
   "execution_count": 40,
   "metadata": {
    "collapsed": false
   },
   "outputs": [],
   "source": [
    "fileData.sort_values(by='date_clean', ascending=True, inplace=True)"
   ]
  },
  {
   "cell_type": "code",
   "execution_count": 41,
   "metadata": {
    "collapsed": false
   },
   "outputs": [
    {
     "data": {
      "text/html": [
       "<div>\n",
       "<table border=\"1\" class=\"dataframe\">\n",
       "  <thead>\n",
       "    <tr style=\"text-align: right;\">\n",
       "      <th></th>\n",
       "      <th>fileName</th>\n",
       "      <th>date</th>\n",
       "      <th>protest</th>\n",
       "      <th>wordcount</th>\n",
       "      <th>protest_word</th>\n",
       "      <th>god</th>\n",
       "      <th>date_clean</th>\n",
       "    </tr>\n",
       "  </thead>\n",
       "  <tbody>\n",
       "    <tr>\n",
       "      <th>0</th>\n",
       "      <td>WestboroBaptist_Sermon_20070527.pdf.txt</td>\n",
       "      <td>20070527</td>\n",
       "      <td>0</td>\n",
       "      <td>5770</td>\n",
       "      <td>0</td>\n",
       "      <td>72</td>\n",
       "      <td>2007-05-27</td>\n",
       "    </tr>\n",
       "    <tr>\n",
       "      <th>1</th>\n",
       "      <td>WestboroBaptist_Sermon_20070624.pdf.txt</td>\n",
       "      <td>20070624</td>\n",
       "      <td>0</td>\n",
       "      <td>4586</td>\n",
       "      <td>0</td>\n",
       "      <td>26</td>\n",
       "      <td>2007-06-24</td>\n",
       "    </tr>\n",
       "    <tr>\n",
       "      <th>2</th>\n",
       "      <td>WestboroBaptist_Sermon_20070701.pdf.txt</td>\n",
       "      <td>20070701</td>\n",
       "      <td>0</td>\n",
       "      <td>3487</td>\n",
       "      <td>0</td>\n",
       "      <td>10</td>\n",
       "      <td>2007-07-01</td>\n",
       "    </tr>\n",
       "    <tr>\n",
       "      <th>3</th>\n",
       "      <td>WestboroBaptist_Sermon_20070708.pdf.txt</td>\n",
       "      <td>20070708</td>\n",
       "      <td>0</td>\n",
       "      <td>5642</td>\n",
       "      <td>0</td>\n",
       "      <td>32</td>\n",
       "      <td>2007-07-08</td>\n",
       "    </tr>\n",
       "    <tr>\n",
       "      <th>4</th>\n",
       "      <td>WestboroBaptist_Sermon_20070715.pdf.txt</td>\n",
       "      <td>20070715</td>\n",
       "      <td>0</td>\n",
       "      <td>3171</td>\n",
       "      <td>0</td>\n",
       "      <td>19</td>\n",
       "      <td>2007-07-15</td>\n",
       "    </tr>\n",
       "    <tr>\n",
       "      <th>5</th>\n",
       "      <td>WestboroBaptist_Sermon_20070722.pdf.txt</td>\n",
       "      <td>20070722</td>\n",
       "      <td>0</td>\n",
       "      <td>3459</td>\n",
       "      <td>0</td>\n",
       "      <td>18</td>\n",
       "      <td>2007-07-22</td>\n",
       "    </tr>\n",
       "    <tr>\n",
       "      <th>6</th>\n",
       "      <td>WestboroBaptist_Sermon_20070729.pdf.txt</td>\n",
       "      <td>20070729</td>\n",
       "      <td>0</td>\n",
       "      <td>3285</td>\n",
       "      <td>0</td>\n",
       "      <td>35</td>\n",
       "      <td>2007-07-29</td>\n",
       "    </tr>\n",
       "    <tr>\n",
       "      <th>7</th>\n",
       "      <td>WestboroBaptist_Sermon_20070805.pdf.txt</td>\n",
       "      <td>20070805</td>\n",
       "      <td>0</td>\n",
       "      <td>3633</td>\n",
       "      <td>0</td>\n",
       "      <td>36</td>\n",
       "      <td>2007-08-05</td>\n",
       "    </tr>\n",
       "    <tr>\n",
       "      <th>8</th>\n",
       "      <td>WestboroBaptist_Sermon_20070812.pdf.txt</td>\n",
       "      <td>20070812</td>\n",
       "      <td>0</td>\n",
       "      <td>3407</td>\n",
       "      <td>0</td>\n",
       "      <td>35</td>\n",
       "      <td>2007-08-12</td>\n",
       "    </tr>\n",
       "    <tr>\n",
       "      <th>9</th>\n",
       "      <td>WestboroBaptist_Sermon_20070819.pdf.txt</td>\n",
       "      <td>20070819</td>\n",
       "      <td>0</td>\n",
       "      <td>3342</td>\n",
       "      <td>0</td>\n",
       "      <td>8</td>\n",
       "      <td>2007-08-19</td>\n",
       "    </tr>\n",
       "  </tbody>\n",
       "</table>\n",
       "</div>"
      ],
      "text/plain": [
       "                                  fileName      date  protest  wordcount  \\\n",
       "0  WestboroBaptist_Sermon_20070527.pdf.txt  20070527        0       5770   \n",
       "1  WestboroBaptist_Sermon_20070624.pdf.txt  20070624        0       4586   \n",
       "2  WestboroBaptist_Sermon_20070701.pdf.txt  20070701        0       3487   \n",
       "3  WestboroBaptist_Sermon_20070708.pdf.txt  20070708        0       5642   \n",
       "4  WestboroBaptist_Sermon_20070715.pdf.txt  20070715        0       3171   \n",
       "5  WestboroBaptist_Sermon_20070722.pdf.txt  20070722        0       3459   \n",
       "6  WestboroBaptist_Sermon_20070729.pdf.txt  20070729        0       3285   \n",
       "7  WestboroBaptist_Sermon_20070805.pdf.txt  20070805        0       3633   \n",
       "8  WestboroBaptist_Sermon_20070812.pdf.txt  20070812        0       3407   \n",
       "9  WestboroBaptist_Sermon_20070819.pdf.txt  20070819        0       3342   \n",
       "\n",
       "   protest_word  god date_clean  \n",
       "0             0   72 2007-05-27  \n",
       "1             0   26 2007-06-24  \n",
       "2             0   10 2007-07-01  \n",
       "3             0   32 2007-07-08  \n",
       "4             0   19 2007-07-15  \n",
       "5             0   18 2007-07-22  \n",
       "6             0   35 2007-07-29  \n",
       "7             0   36 2007-08-05  \n",
       "8             0   35 2007-08-12  \n",
       "9             0    8 2007-08-19  "
      ]
     },
     "execution_count": 41,
     "metadata": {},
     "output_type": "execute_result"
    }
   ],
   "source": [
    "fileData[0:10]"
   ]
  },
  {
   "cell_type": "code",
   "execution_count": 44,
   "metadata": {
    "collapsed": false
   },
   "outputs": [
    {
     "data": {
      "image/png": "[encoded data removed]",
      "text/plain": [
       "<matplotlib.figure.Figure at 0x117586a50>"
      ]
     },
     "metadata": {},
     "output_type": "display_data"
    }
   ],
   "source": [
    "plt.figure(num=None, figsize=(16, 6), dpi=80, facecolor='w', edgecolor='k')\n",
    "plt.plot(fileData.date_clean, fileData.god)\n",
    "# plt.plot(fileData.date_clean, fileData.wordcount)\n",
    "plt.ylabel(\"Count of Word 'God'\")\n",
    "plt.xlabel(\"Date\")\n",
    "plt.title(\"Variance in Usage of the Word 'God'over time\")\n",
    "plt.axhline(fileData.god.mean(), color = 'green')\n",
    "plt.show()"
   ]
  },
  {
   "cell_type": "code",
   "execution_count": 159,
   "metadata": {
    "collapsed": false
   },
   "outputs": [
    {
     "data": {
      "image/png": "[encoded data removed]",
      "text/plain": [
       "<matplotlib.figure.Figure at 0x1176d6390>"
      ]
     },
     "metadata": {},
     "output_type": "display_data"
    }
   ],
   "source": [
    "plt.figure(num=None, figsize=(16, 6), dpi=80, facecolor='w', edgecolor='k')\n",
    "plt.plot(fileData.date_clean, fileData.protest_word)\n",
    "# plt.plot(fileData.date_clean, fileData.wordcount)\n",
    "plt.ylabel(\"Count of Word 'Protest'\")\n",
    "plt.xlabel(\"Date\")\n",
    "plt.title(\"Variance in Usage of the Word 'Protest'over time\")\n",
    "plt.ylim([0,10])\n",
    "# plt.axhline(fileData.god.mean(), color = 'green')\n",
    "plt.show()"
   ]
  },
  {
   "cell_type": "markdown",
   "metadata": {},
   "source": [
    "### Modeling"
   ]
  },
  {
   "cell_type": "code",
   "execution_count": 61,
   "metadata": {
    "collapsed": false
   },
   "outputs": [],
   "source": [
    "from sklearn import linear_model\n",
    "from sklearn.cross_validation import train_test_split"
   ]
  },
  {
   "cell_type": "code",
   "execution_count": 62,
   "metadata": {
    "collapsed": false
   },
   "outputs": [],
   "source": [
    "X = fileData.loc[:,['wordcount','god','protest_word']]\n",
    "y = fileData.protest"
   ]
  },
  {
   "cell_type": "code",
   "execution_count": 63,
   "metadata": {
    "collapsed": false
   },
   "outputs": [],
   "source": [
    "X_train, X_test, y_train, y_test = train_test_split(X, y, test_size=0.3, random_state=0)"
   ]
  },
  {
   "cell_type": "code",
   "execution_count": 64,
   "metadata": {
    "collapsed": true
   },
   "outputs": [],
   "source": [
    "logreg = linear_model.LogisticRegression()\n",
    "logreg.fit(X_train, y_train)\n",
    "y_pred = logreg.predict(X_test)"
   ]
  },
  {
   "cell_type": "code",
   "execution_count": 65,
   "metadata": {
    "collapsed": false
   },
   "outputs": [
    {
     "name": "stdout",
     "output_type": "stream",
     "text": [
      "Accuracy: 0.87\n",
      "[[  0  16]\n",
      " [  0 110]]\n"
     ]
    }
   ],
   "source": [
    "print('Accuracy: %.2f' % accuracy_score(y_test,y_pred))\n",
    "confmat=confusion_matrix(y_true=y_test, y_pred=y_pred, labels = [1,0])\n",
    "print(confmat)"
   ]
  },
  {
   "cell_type": "markdown",
   "metadata": {},
   "source": [
    "## Variable Significance Exploration"
   ]
  },
  {
   "cell_type": "code",
   "execution_count": 48,
   "metadata": {
    "collapsed": true
   },
   "outputs": [],
   "source": [
    "import statsmodels.api as sm\n",
    "import pylab as pl"
   ]
  },
  {
   "cell_type": "code",
   "execution_count": 49,
   "metadata": {
    "collapsed": false
   },
   "outputs": [
    {
     "data": {
      "text/plain": [
       "count    419.000000\n",
       "mean      27.532220\n",
       "std       16.849199\n",
       "min        0.000000\n",
       "25%       17.000000\n",
       "50%       24.000000\n",
       "75%       34.000000\n",
       "max      151.000000\n",
       "Name: god, dtype: float64"
      ]
     },
     "execution_count": 49,
     "metadata": {},
     "output_type": "execute_result"
    }
   ],
   "source": [
    "fileData.god.describe()"
   ]
  },
  {
   "cell_type": "code",
   "execution_count": 50,
   "metadata": {
    "collapsed": false
   },
   "outputs": [
    {
     "data": {
      "text/plain": [
       "protest            0.318869\n",
       "wordcount       1353.265936\n",
       "protest_word       0.271057\n",
       "god               16.849199\n",
       "dtype: float64"
      ]
     },
     "execution_count": 50,
     "metadata": {},
     "output_type": "execute_result"
    }
   ],
   "source": [
    "fileData.std()"
   ]
  },
  {
   "cell_type": "code",
   "execution_count": 51,
   "metadata": {
    "collapsed": false
   },
   "outputs": [
    {
     "data": {
      "image/png": "[encoded data removed]",
      "text/plain": [
       "<matplotlib.figure.Figure at 0x118e78e90>"
      ]
     },
     "metadata": {},
     "output_type": "display_data"
    }
   ],
   "source": [
    "# plot all of the columns, Pretty Slow\n",
    "fileData.god.hist()\n",
    "pl.show()"
   ]
  },
  {
   "cell_type": "code",
   "execution_count": 72,
   "metadata": {
    "collapsed": false
   },
   "outputs": [],
   "source": [
    "predictor_cols = ['wordcount','god','protest_word']\n",
    "# Instantiate a gamma family model with the default link function.\n",
    "model = sm.GLM(y_train, X_train, family=sm.families.Binomial())\n",
    "results = model.fit()"
   ]
  },
  {
   "cell_type": "code",
   "execution_count": 73,
   "metadata": {
    "collapsed": false
   },
   "outputs": [
    {
     "data": {
      "text/plain": [
       "293"
      ]
     },
     "execution_count": 73,
     "metadata": {},
     "output_type": "execute_result"
    }
   ],
   "source": [
    "len(y_train)"
   ]
  },
  {
   "cell_type": "code",
   "execution_count": 74,
   "metadata": {
    "collapsed": false
   },
   "outputs": [
    {
     "name": "stdout",
     "output_type": "stream",
     "text": [
      "                 Generalized Linear Model Regression Results                  \n",
      "==============================================================================\n",
      "Dep. Variable:                protest   No. Observations:                  293\n",
      "Model:                            GLM   Df Residuals:                      290\n",
      "Model Family:                Binomial   Df Model:                            2\n",
      "Link Function:                  logit   Scale:                             1.0\n",
      "Method:                          IRLS   Log-Likelihood:                -108.80\n",
      "Date:                Sun, 10 Jul 2016   Deviance:                       217.60\n",
      "Time:                        09:28:36   Pearson chi2:                     617.\n",
      "No. Iterations:                    23                                         \n",
      "================================================================================\n",
      "                   coef    std err          z      P>|z|      [95.0% Conf. Int.]\n",
      "--------------------------------------------------------------------------------\n",
      "wordcount       -0.0008      0.000     -5.666      0.000        -0.001    -0.000\n",
      "god              0.0281      0.015      1.856      0.063        -0.002     0.058\n",
      "protest_word   -20.9688   3.34e+04     -0.001      0.999     -6.55e+04  6.55e+04\n",
      "================================================================================\n"
     ]
    }
   ],
   "source": [
    "print results.summary()"
   ]
  },
  {
   "cell_type": "code",
   "execution_count": 76,
   "metadata": {
    "collapsed": false
   },
   "outputs": [],
   "source": [
    "y_preds = results.predict(X_test)"
   ]
  },
  {
   "cell_type": "code",
   "execution_count": 79,
   "metadata": {
    "collapsed": false
   },
   "outputs": [],
   "source": [
    "# Convert probabilities to Binary Response for Accuracy\n",
    "y_preds10 = [1 if pred > 0.5 else 0 for pred in y_preds]"
   ]
  },
  {
   "cell_type": "code",
   "execution_count": 89,
   "metadata": {
    "collapsed": false
   },
   "outputs": [
    {
     "name": "stdout",
     "output_type": "stream",
     "text": [
      "Accuracy: 0.87\n",
      "[[  0  16]\n",
      " [  0 110]]\n"
     ]
    }
   ],
   "source": [
    "print('Accuracy: %.2f' % accuracy_score(y_test,y_pred))\n",
    "confmat=confusion_matrix(y_true=y_test, y_pred=y_preds10, labels = [1,0])\n",
    "print(confmat)"
   ]
  },
  {
   "cell_type": "code",
   "execution_count": 94,
   "metadata": {
    "collapsed": false
   },
   "outputs": [
    {
     "name": "stdout",
     "output_type": "stream",
     "text": [
      "k value: 0.0\n",
      "Accuracy: 0.87\n",
      "k value: 0.05\n",
      "Accuracy: 0.87\n",
      "k value: 0.1\n",
      "Accuracy: 0.87\n",
      "k value: 0.15\n",
      "Accuracy: 0.87\n",
      "k value: 0.2\n",
      "Accuracy: 0.87\n",
      "k value: 0.25\n",
      "Accuracy: 0.87\n",
      "k value: 0.3\n",
      "Accuracy: 0.87\n",
      "k value: 0.35\n",
      "Accuracy: 0.87\n",
      "k value: 0.4\n",
      "Accuracy: 0.87\n",
      "k value: 0.45\n",
      "Accuracy: 0.87\n",
      "k value: 0.5\n",
      "Accuracy: 0.87\n",
      "k value: 0.55\n",
      "Accuracy: 0.87\n",
      "k value: 0.6\n",
      "Accuracy: 0.87\n",
      "k value: 0.65\n",
      "Accuracy: 0.87\n",
      "k value: 0.7\n",
      "Accuracy: 0.87\n",
      "k value: 0.75\n",
      "Accuracy: 0.87\n",
      "k value: 0.8\n",
      "Accuracy: 0.87\n",
      "k value: 0.85\n",
      "Accuracy: 0.87\n",
      "k value: 0.9\n",
      "Accuracy: 0.87\n",
      "k value: 0.95\n",
      "Accuracy: 0.87\n",
      "k value: 1.0\n",
      "Accuracy: 0.87\n"
     ]
    }
   ],
   "source": [
    "# Find optimal threshold value\n",
    "for k in np.arange(float(0),float(1.05),0.05):\n",
    "    print 'k value: ' + str(k)\n",
    "    y_preds10 = [1 if pred > k else 0 for pred in y_preds]\n",
    "    print('Accuracy: %.2f' % accuracy_score(y_test,y_pred))"
   ]
  },
  {
   "cell_type": "markdown",
   "metadata": {},
   "source": [
    "## Undersampling Due to Class Imbalance"
   ]
  },
  {
   "cell_type": "code",
   "execution_count": null,
   "metadata": {
    "collapsed": true
   },
   "outputs": [],
   "source": []
  },
  {
   "cell_type": "code",
   "execution_count": null,
   "metadata": {
    "collapsed": true
   },
   "outputs": [],
   "source": []
  },
  {
   "cell_type": "code",
   "execution_count": null,
   "metadata": {
    "collapsed": true
   },
   "outputs": [],
   "source": []
  },
  {
   "cell_type": "markdown",
   "metadata": {},
   "source": [
    "## Adaboost"
   ]
  },
  {
   "cell_type": "code",
   "execution_count": null,
   "metadata": {
    "collapsed": true
   },
   "outputs": [],
   "source": []
  },
  {
   "cell_type": "code",
   "execution_count": null,
   "metadata": {
    "collapsed": true
   },
   "outputs": [],
   "source": []
  },
  {
   "cell_type": "markdown",
   "metadata": {},
   "source": [
    "## Find a Way to Tokenize Scripture"
   ]
  },
  {
   "cell_type": "code",
   "execution_count": 126,
   "metadata": {
    "collapsed": false
   },
   "outputs": [],
   "source": [
    "rawText=open(dataloc+files[0]).read()"
   ]
  },
  {
   "cell_type": "code",
   "execution_count": 128,
   "metadata": {
    "collapsed": false
   },
   "outputs": [
    {
     "data": {
      "text/plain": [
       "'Sunday, May 27, 2007 page 1  Sermon Outline  \"Away with such a fellow from the earth; for it is not fit that he should live.\" Acts 22:22. According to Friday C-J paper, some are talking about a petition demanding Phelps be ousted from Kansas. A sort of persona non grata, like they did in Canada \\xad and everywhere else if they get the chance. Beloved, we\\'re in good company; this is more evidence our ministry is of God and our calling and election is sure. 2 Pet. 1:10. The mob said of Paul: \"Away with such a fellow from the earth; for it is not fit that he should live.\" Acts 22:22. Of Him Christ said: \"But his citizens hated him, and sent a message after him, saying, We will not have this man (Christ) to reign over us.\" Luke 19:14. \"But his citizens hated him, and sent a message after him, saying, We will not have this man (Christ) to reign over us.\" Luke 19:14. America is a nation of sodomite pagan idolaters, worshiping a flag and worshiping the dead \\xad the dunghill gods of ancient Sodom. It is no coincidence that our Sovereign God decreed the beginning of our miraculous street ministry at the time of America\\'s national orgy of idolatrous patriotism called Memorial Day. Dr. Samuel Johnson said patriotism is the last refuge of a scoundrel. America is a nation of fag-enabling scoundrels. Other American antichrist orgies include July 4, Flag Day, Armed Forces Day, Veterans Day, Constitution Day, Law Day, etc., you name it, we picket it. This week marks the end of 16 years of daily picketing on the mean streets of fagdominated America \\xad an amazing feat probably unequaled in all human history. Certainly a product of daily miracles, directly at the hands of a sovereign God. All 50 States. 400+ cities. 33,280+ pickets. All documented. Warning America of her sodomite doom. America \\xad Land of the Sodomite Damned. Beloved, God has counted us faithful putting us in this ministry. Next Sunday we begin our 17th year in this blessed service \\xad all for the love that we bear for the King of the Place. The Commission He gave us is still good. \"Bomb plot against Fred Phelps clan foiled.\" Last Tuesday, May 22, as we picketed Jerry Falwell\\'s funeral at the Thomas Road Baptist Church in Lynchburg, Virginia, we noticed heightened police activity, and found out later there was a bomb plot against WBC by Army and ROTC terrorists led by a wonderful flag-waving patriot \\xad police identified as Mark David Uhl, 19\\xada student at Falwell\\'s Liberty University\\xadstudying to become an Army chaplain. They found 5 or 6 home-made bombs in his car \\xad IEDs (Improvised Explosive Devices), like those used by American Terrorists to bomb WBC in Topeka in the past, and like those used by God  \\x0cSunday, May 27, 2007 page 2  Sermon Outline  Almighty in Iraq in revenge against America, sending thousands of American kids home in body bags, and many thousands more home as helpless, hopeless multiple amputees and cripples hideously maimed for life, their minds and bodies forever destroyed.  When will you learn? America has become WBC\\'s Terrorist \\xad for 16 years committing a long line of unsolved, uninvestigated, unpunished violent crimes against us \\xad so now God has become America\\'s Terrorist. America \\xad Land of the Sodomite Damned \\xad cursed of God and Doomed. God hates America. Persecuting WBC for warning you about fag sins is pouring gasoline on the fires of God\\'s wrath.  Here\\'s one of thousands of Bible passages confirming WBC\\'s message: \"And shall not God avenge his own elect, which cry day and night unto him, though he bear long with them? I tell you that he will avenge them speedily.\" Luke. 18:7, 8. Mind you, this is the loving Lord Jesus Christ talking about God avenging His people. You better quit lying about and malinterpreting John. 3:16. You better read the rest of that passage, and see that you are condemned (damned to Hell forever) already: \"And this is the condemnation (why you are damned to Hell already), that light is come into the world (i.e., God has sent WBC to preach the truth to you), and you loved darkness rather than light, because your deeds are evil (i.e., you are a filthy practicing fag, or, which is worse, you are a fag-enabler). For every one that doeth evil (fags and fag-enablers) hateth the light (which is why you plot to kill WBC saints), neither cometh to the light, lest his deeds should be reproved (WBC\\'s words of God\\'s only and absolute truth reprove your Hell-bound soul, and that\\'s what tears you up, and that\\'s the truthful explanation for your bombs and violence designed to kill and destroy WBC\\'s humble servants). But he that doeth truth cometh to the light, that his deeds may be made manifest, that they are wrought in God.\" Jn. 3:16-21. And this: \"And they cried with a loud voice, saying, How long, O Lord, holy and true, dost thou not judge and avenge our blood on them that dwell on the earth?\" Rev. 6:10. For many months now, front page news is only about the wrath of God. Hurricanes, 9/11, tornadoes, floods, Tsunamis \\xad kids slaughtered, maimed, hideously disfigured, and mentally deranged for life by bloody human sausage grinders in Iraq and Afghanistan \\xad as God pours His vengeance upon America for persecuting His faithful servants at WBC. And we promise you, that we at WBC are praying fervently day & night for God\\'s wrath to increase infinitely more against America \\xad and we rejoice and thank God for every disaster, tragedy, dead and maimed body. Furthermore, God is Himself laughing and mocking even as He pours out His wrath on this evil sodomite nation that has rejected His Word and persecuted His only faithful servants who are delivering His Word. Anyone who does not believe THAT is Bible- dumb, willingly ignorant, hates God and His Word, and is headed irreversibly for Hell. Here is a  \\x0cSunday, May 27, 2007 page 3  Sermon Outline  sampling of God\\'s Truth on the subject: \"Why do the heathen rage, and the people imagine a vain thing? The kings of the earth set themselves, and the rulers take counsel together, against the Lord, and against his anointed, saying, Let us break their bands asunder, and cast away their cords from us. HE THAT SITTETH IN THE HEAVENS SHALL LAUGH; THE LORD SHALL HAVE THEM IN DERISION (i.e., GOD IS MOCKING AND TAUNTING THEM EVEN AS HE SPEAKS TO THEM IN HIS WRATH). Then shall he speak unto them in his wrath, and vex them in his sore displeasure.\" Psa. 2:1-5.  And this further sampling of passages showing that the God of the Bible is not a maudlin wimp, and rejoices in satisfaction with all His works \\xad even when He pours out His wrath in vengeance upon sinners for maltreating His servants who speak His words to this adulterous and sinful generation. The church age, New Testament picture of Christ as an avenging God is no different \\xad He is the same, yesterday, today and forever. Heb. 13:8.  \"And in the midst of the seven candlesticks (churches) one like unto the Son of man, clothed with a garment down to the foot, and girt about the paps with a golden girdle. His head and his hairs were white like wool, as white as snow; and his eyes were as a flame of fire; And his feet like unto fine brass, as if they burned in a furnace; and his voice as the sound of many waters. And he had in his right hand seven stars; and out of his mouth went a sharp twoedged sword; and his countenance was as the sun shineth in his strength. And when I saw him, I fell at his feet as dead. And he laid his right hand upon me, saying unto me, Fear not; I am the first and the last...(Rev. 1:13-17)...And the armies which were in heaven followed him upon white horses, clothed in fine linen, white and clean. And out of his mouth goeth a sharp sword, that with it he should smite the nations; and he shall rule them with a rod of iron; and he treadeth the winepress of the fierceness and wrath of Almighty God. And he hath on his vesture and on his thigh a name written, KING OF KINGS, AND LORD OF LORDS.\" Rev. 19:14-16.  \\x0cSunday, May 27, 2007 page 4  Sermon Outline  If you do not have that picture of God and our Lord Jesus Christ you have not seen him as he is and you are going to Hell for it. Such is a Holy term of art describing and identifying God\\'s elect: \"Beloved, now are we the sons of God, and it doth not yet appear what we shall be; but we know that, when he shall appear, we shall be like him, for we shall see him as he is.\" 1 Jn. 3:2. \"Yet in my flesh shall I see God; Whom I shall see for myself, and mine eyes shall behold, and not another (i.e., he will be no stranger, but the same Holy One I will recognize, for I have seen Him as he is.).\" Job 19:26, 27.  The preachers who try to sanitize, popularize, and make the God of the Bible more palatable, are going to Hell and taking all their followers with them. And that includes nearly every preacher & rabbi in America. I tell you that God is killing and maiming troops in Iraq in vengeance on America for pushing sodomy and for persecuting WBC \\xad and God is laughing and mocking America as He does so; to wit: \"Because I have called, and ye refused; I have stretched out my hand; and no man regarded; But ye have set at nought all my counsel, and would none of my reproof; I also will LAUGH at your calamity; I will MOCK when your fear cometh; When your fear cometh as desolation, and your destruction cometh as a whirlwind; when distress and anguish cometh upon you.\" Prov. 1:24-27. When a group of Falwell\\'s ROTC and Army brats conspires to murder WBC\\'s gentle servants of God \\xad you Hell-bound Americans think that\\'s fine. When God Almighty sends those same brats home in little pieces in body bags, you same Hell-bound Americans get mad when we think THAT\\'S fine. We are supposed to rejoice when we see the vengeance of God poured out on America \\xad Land of the Sodomite Damned. To-wit: \"The righteous shall rejoice when he seeth the vengeance; he shall wash his feet (a refreshing Middle Eastern custom) in the blood of the wicked. (It refreshes us when we hear of dead bodies coming home from Iraq). So that a man shall say, Verily there is a reward for the righteous; verily he is a God that judgeth in the earth.\" Psa. 58:10, 11. \"The righteous shall rejoice when he seeth the vengeance; he shall wash his feet in the blood of the wicked. So that a man shall say, Verily there is a reward for the righteous; verily he is a God that judgeth in the earth.\" Psa. 58:10, 11.  \\x0cSunday, May 27, 2007 page 5  Sermon Outline  Thank God for IEDs. This week, headlines around the world blare out news about a Bomb Plot by Army and ROTC soldiers against WBC being foiled. A typical headline on an Associated Press story says, \"Bomb plot against Fred Phelps clan foiled.\" This is truly amazing stuff \\xad but only because it\\'s the first time the media and law enforcement authorities have apparently taken seriously death threats against WBC. Acting on a tip, the cops swept down in the midnight hours \\xad just hours before WBC members picketed heretick Jerry Falwell\\'s funeral in Lynchburg, Virginia; \\xad found 5 or 6 home-made bombs (IEDs! Improvised Explosive Devices, like those killing their fellow soldiers in Iraq) \\xad found the bombs in a Falwell disciple\\'s car; and promptly arrested the guy \\xad 19-year-old Mark David Uhl \\xad and threw him in jail without bond. Other co-conspirators are a group of ROTC and Army super-patriots and flag-waving idolaters determined to kill WBC servants of God for warning America that God Almighty is killing our troops in Iraq for turning this nation over to fags and dykes and for persecuting WBC for preaching the truth about sodomites. `Fred Phelps is not one of us.\\' The verse that applies here is Jn. 16:2, where the Lord Jesus foretold these times: \"They shall put you out of their synagogues; (churches) \\xad think, Falwell crusading against WBC, like huge articles in his paper going to thousands of synagogues and churches, with headlines like: `Fred Phelps is not one of us.\\' \\xad Yea, the time cometh, that whosoever killeth you will think that he doeth God service.\" Mark David Uhl is a student at Falwell\\'s super-Christian, super-patriotic Liberty University \\xad no doubt imbibing and ingesting Jerry Falwell\\'s steady diet of hatred of WBC. Paraphrase Jn. 16:2 \\xad Falwell and his ilk shall put WBC out of their churches; yea, the time has come, that whosoever killeth WBC saints with home-made bombs will think that he doeth God service.\" Jn. 16:2. America has created a murderous Satanic Zeitgeist, wherein it is commonly believed that any crime of violence against WBC people and property is not only permissible, but encouraged and condoned. The likelihood of interference \\xad certainly not punishment \\xad by the authorities is very remote.  \"Topekan gets 16 days in pipe bomb incident.\"  This Lynchburg plot to murder WBC preachers is Deja Vu all over again, as Yogi Berra says. A group of university hooligans at Washburn Univ. in Topeka not only plotted but bombed WBC, doing considerable physical damage to property and nearly killing a 4-day-old sleeping baby. The police at first refused to do anything, denying the event even happened; then hinting that maybe WBC people set the bomb off them-  \\x0cSunday, May 27, 2007 page 6  Sermon Outline  selves; then telling the media that WBC wasn\\'t the target of the bomb; a big headline in the Kansas City Star blared out: \"Phelps family wasn\\'t bomb target, police say.\" By a WBC $5,000 Reward offer, we were able to break the case. Still the cops and the prosecutor refused to act. Finally, they acted, but only one criminal was arrested \\xad Kent Bradley Lindstrom, 26. He pled guilty \\xad but got only 16 DAYS in jail. On Sept. 22, 2005, Earl Krugel was sentenced by U.S. District Judge Ronald S.W. Lew to 20 years \\xad get that, 20 YEARS, for his part in a mere PLOT to bomb an empty mosque in Culver City, California. What message does that send? BOMB WBC where children are sleeping \\xad get 16 days. PLOT to bomb an empty mosque \\xad get 20 years. And you think God\\'s white-hot wrath is not sending U.S. troops home in body bags? Think again. Vengeance is mine, I will repay saith the Lord. America is doomed. Worse & more wrath is on the way. Those bloody Lynchburg super-patriots; \\xad those flag-waving Army and ROTC soldiers; \\xad those wonderful Falwell Christians; \\xad who plot to murder people \\xad should get at least 20 years for plotting to bomb WBC. Remember, America, the whole world \\xad and God Almighty -- is watching what you do in this case. There are thousands more troops in Iraq that God can send home in body bags. They\\'re dying for America\\'s sodomite sins in persecuting and plotting to kill the humble servants of God at WBC. God hates America. America is doomed. Amen.  \"Shall the throne of iniquity have fellowship with thee, which frameth mischief by a law?\" Psa. 94:20.  A rhetorical question, carrying the answer in its teeth as it comes. A resounding NO!!! The sense is, Can a government claim the blessings of God upon it, if it passes & enforces Satanic laws putting preachers in jail for preaching the Gospel? Like Great Britain did to the old preacher Harry Hammond, for standing on a street corner with a modest sign that said, \"Stop Immorality, Stop Homosexuality, Stop Lesbianism.\" A gang of violent fags surrounded the poor old preacher, pelting him with rocks and rotten fruit. English cops (bobbies) did nothing to stop the violent fags. But when a fag \\xad Shaun Tapper \\xad complained about the old preacher\\'s sign and words, they arrested, prosecuted and convicted the poor old preacher \\xad in the English, pro-gay, kangaroo court. They refused to sell us a copy of the transcript of proceedings in the case \\xad although it\\'s a court of record in England and required as a matter of law to make all proceedings public. Are they ashamed of what they did to Harry Hammond? The UK is now a Throne of Iniquity. They have framed mischief by a law. Filthy fags now marry each other in the UK \\xad thanks to the Bitch Queen who proposed the law. England is now the Land of the Sodomite Damned \\xad cursed of God \\xad and the curse is irreversible. Her throne is a Throne of Iniquity. Her Queen \\xad Elizabeth II \\xad is the Queen of Fags \\xad Mother of Whoremongers, Adulterers, Whores, and Perverts. God Hates the United Kingdom.  \\x0c\\n'"
      ]
     },
     "execution_count": 128,
     "metadata": {},
     "output_type": "execute_result"
    }
   ],
   "source": [
    "rawText"
   ]
  },
  {
   "cell_type": "code",
   "execution_count": 129,
   "metadata": {
    "collapsed": true
   },
   "outputs": [],
   "source": [
    "import scriptures"
   ]
  },
  {
   "cell_type": "code",
   "execution_count": 131,
   "metadata": {
    "collapsed": false
   },
   "outputs": [
    {
     "data": {
      "text/plain": [
       "[(u'Acts', 22, 22, 22, 22),\n",
       " (u'Acts', 22, 22, 22, 22),\n",
       " (u'Luke', 19, 14, 19, 14),\n",
       " (u'Luke', 19, 14, 19, 14),\n",
       " (u'Job', 19, 26, 19, 26)]"
      ]
     },
     "execution_count": 131,
     "metadata": {},
     "output_type": "execute_result"
    }
   ],
   "source": [
    "# Returns a 5-tuple ('Book name', start chapter, start verse, end chapter, end verse)\n",
    "scriptures.extract(rawText)"
   ]
  },
  {
   "cell_type": "code",
   "execution_count": 132,
   "metadata": {
    "collapsed": true
   },
   "outputs": [],
   "source": [
    "import re, string"
   ]
  },
  {
   "cell_type": "code",
   "execution_count": 146,
   "metadata": {
    "collapsed": false
   },
   "outputs": [],
   "source": [
    "test = 'Job 19:26, 27'\n",
    "m = re.findall('\\d+:\\d+', test)"
   ]
  },
  {
   "cell_type": "code",
   "execution_count": 147,
   "metadata": {
    "collapsed": false
   },
   "outputs": [
    {
     "data": {
      "text/plain": [
       "['19:26']"
      ]
     },
     "execution_count": 147,
     "metadata": {},
     "output_type": "execute_result"
    }
   ],
   "source": [
    "m"
   ]
  },
  {
   "cell_type": "code",
   "execution_count": 145,
   "metadata": {
    "collapsed": false
   },
   "outputs": [
    {
     "ename": "IndexError",
     "evalue": "no such group",
     "output_type": "error",
     "traceback": [
      "\u001b[0;31m---------------------------------------------------------------------------\u001b[0m",
      "\u001b[0;31mIndexError\u001b[0m                                Traceback (most recent call last)",
      "\u001b[0;32m<ipython-input-145-b680042b0be8>\u001b[0m in \u001b[0;36m<module>\u001b[0;34m()\u001b[0m\n\u001b[0;32m----> 1\u001b[0;31m \u001b[0mm\u001b[0m\u001b[0;34m.\u001b[0m\u001b[0mstring\u001b[0m\u001b[0;34m[\u001b[0m\u001b[0mm\u001b[0m\u001b[0;34m.\u001b[0m\u001b[0mstart\u001b[0m\u001b[0;34m(\u001b[0m\u001b[0mtest\u001b[0m\u001b[0;34m)\u001b[0m\u001b[0;34m:\u001b[0m\u001b[0mm\u001b[0m\u001b[0;34m.\u001b[0m\u001b[0mend\u001b[0m\u001b[0;34m(\u001b[0m\u001b[0mtest\u001b[0m\u001b[0;34m)\u001b[0m\u001b[0;34m]\u001b[0m\u001b[0;34m\u001b[0m\u001b[0m\n\u001b[0m",
      "\u001b[0;31mIndexError\u001b[0m: no such group"
     ]
    }
   ],
   "source": [
    "m.string[m.start(test):m.end(test)]"
   ]
  },
  {
   "cell_type": "code",
   "execution_count": null,
   "metadata": {
    "collapsed": true
   },
   "outputs": [],
   "source": []
  }
 ],
 "metadata": {
  "kernelspec": {
   "display_name": "Python 2",
   "language": "python",
   "name": "python2"
  },
  "language_info": {
   "codemirror_mode": {
    "name": "ipython",
    "version": 2
   },
   "file_extension": ".py",
   "mimetype": "text/x-python",
   "name": "python",
   "nbconvert_exporter": "python",
   "pygments_lexer": "ipython2",
   "version": "2.7.11"
  }
 },
 "nbformat": 4,
 "nbformat_minor": 0
}
