{
 "cells": [
  {
   "cell_type": "code",
   "execution_count": 2,
   "metadata": {
    "collapsed": true
   },
   "outputs": [],
   "source": [
    "import pandas as pd\n",
    "import xml.etree.ElementTree as ET\n",
    "import os, sys\n",
    "import numpy as np\n",
    "import pandas as pd\n",
    "import re\n",
    "import random\n",
    "import nltk\n",
    "tokenizer = nltk.tokenize.treebank.TreebankWordTokenizer()\n",
    "import string\n",
    "import datetime\n",
    "import imp"
   ]
  },
  {
   "cell_type": "markdown",
   "metadata": {},
   "source": [
    "## Function to Load Dorothy Day File Metadata"
   ]
  },
  {
   "cell_type": "code",
   "execution_count": null,
   "metadata": {
    "collapsed": true
   },
   "outputs": [],
   "source": [
    "def getDorothyDaymetadata(dataloc):\n",
    "\n",
    "    files = os.listdir(dataloc)\n",
    "\n",
    "    files = [file for file in files if '.txt' in file]\n",
    "\n",
    "    fileData = pd.DataFrame(files, columns = ['fileName'])\n",
    "\n",
    "    firstlines = []\n",
    "    for file in fileData.fileName:\n",
    "        text = rawText=open(dataloc+\"/\"+file, encoding = 'latin1').read()\n",
    "        lineone = text[0:text[1:len(text)].find('\\n')+1]\n",
    "        lineone = re.sub('\\nThe Catholic Worker, ','',lineone)\n",
    "        firstlines.append(lineone)\n",
    "\n",
    "    fileData['firstline'] = firstlines\n",
    "\n",
    "    # Building Parsing for Dates in DD Files\n",
    "    date_est = []\n",
    "    for i in range(0,len(fileData)):\n",
    "        if fileData.loc[i,'firstline'][0] == '\\n':\n",
    "            # print(fileData.loc[i,'firstline'][0])\n",
    "            # print(\"Drop\")\n",
    "            date_est.append('unclear date')\n",
    "        else:\n",
    "            # print(fileData.loc[i,'firstline'][0])\n",
    "            # print(\"Keep\")\n",
    "            pieces = fileData.loc[i,'firstline'].split(\" \")\n",
    "            if len(pieces[1]) != 5:\n",
    "                date_est.append('unclear date')\n",
    "            else:\n",
    "                date_est.append(pieces[0]+', '+pieces[1][0:4])\n",
    "                # print(pieces)\n",
    "\n",
    "    fileData['date_est'] = date_est\n",
    "\n",
    "    datelist = []\n",
    "    for date in date_est:\n",
    "        try:\n",
    "            datelist.append(datetime.datetime.strptime(date, '%B, %Y'))\n",
    "        except ValueError:\n",
    "            temp = re.split('[-,/]',date)\n",
    "            temp = temp[0]+','+temp[len(temp)-1]\n",
    "            try: \n",
    "                temp = datetime.datetime.strptime(temp, '%B, %Y')\n",
    "                datelist.append(temp)\n",
    "            except ValueError:\n",
    "                try: \n",
    "                    temp = datetime.datetime.strptime(temp, '%b, %Y')\n",
    "                    datelist.append(temp)\n",
    "                except ValueError:\n",
    "                    datelist.append(\"unclear date\")\n",
    "\n",
    "    fileData['date_clean'] = datelist\n",
    "    \n",
    "    fileData[fileData.date_clean == 'unclear date'] = np.NaN\n",
    "    fileData = fileData.dropna()\n",
    "    fileData = fileData[fileData.date_clean > datetime.datetime(1900, 1, 1, 0, 0)]\n",
    "    del fileData['date_est']\n",
    "    del fileData['firstline']\n",
    "    fileData.reset_index(inplace=True, drop=True)\n",
    "    \n",
    "    fileData.sort_values(by='date_clean', ascending=True, inplace=True)\n",
    "    \n",
    "    return fileData"
   ]
  },
  {
   "cell_type": "markdown",
   "metadata": {},
   "source": [
    "## Function to Load File Metadata when Date 1st Item in FileName e.g. 2 March 2017"
   ]
  },
  {
   "cell_type": "code",
   "execution_count": null,
   "metadata": {
    "collapsed": true
   },
   "outputs": [],
   "source": [
    "def getSimplemetadata(dataloc):\n",
    "    files = os.listdir(dataloc)\n",
    "    files = [file for file in files if '.txt' in file]\n",
    "    fileData = pd.DataFrame(files, columns = ['fileName'])\n",
    "    temp = [file.split('_')[0] for file in files]\n",
    "    fileData['date'] = temp\n",
    "    # Convert Str Dates to Date-Time Objects\n",
    "    dates_clean = [datetime.datetime.strptime(date,'%d %B %Y') for date in fileData.date]\n",
    "    fileData['date_clean'] = dates_clean\n",
    "    fileData.sort_values(by='date_clean', ascending=True, inplace=True)\n",
    "    return fileData"
   ]
  },
  {
   "cell_type": "markdown",
   "metadata": {},
   "source": [
    "## Function to Load WBC File Metadata"
   ]
  },
  {
   "cell_type": "code",
   "execution_count": 1,
   "metadata": {
    "collapsed": true
   },
   "outputs": [],
   "source": [
    "def getWBCmetadata(dataloc):\n",
    "    files = os.listdir(dataloc)\n",
    "    files = [file for file in files if '.txt' in file]\n",
    "    fileData = pd.DataFrame(files, columns = ['fileName'])\n",
    "    temp = [file.split('_')[2][0:8] for file in files]\n",
    "    fileData['date'] = temp\n",
    "    # Convert Str Dates to Date-Time Objects\n",
    "    dates_clean = [datetime.datetime.strptime(date,'%Y%m%d') for date in fileData.date]\n",
    "    fileData['date_clean'] = dates_clean\n",
    "    fileData.sort_values(by='date_clean', ascending=True, inplace=True)\n",
    "    return fileData"
   ]
  },
  {
   "cell_type": "markdown",
   "metadata": {},
   "source": [
    "## Function to Load Ghandi File Metadata"
   ]
  },
  {
   "cell_type": "code",
   "execution_count": null,
   "metadata": {
    "collapsed": true
   },
   "outputs": [],
   "source": []
  }
 ],
 "metadata": {
  "anaconda-cloud": {},
  "kernelspec": {
   "display_name": "Python [rel35]",
   "language": "python",
   "name": "Python [rel35]"
  },
  "language_info": {
   "codemirror_mode": {
    "name": "ipython",
    "version": 3
   },
   "file_extension": ".py",
   "mimetype": "text/x-python",
   "name": "python",
   "nbconvert_exporter": "python",
   "pygments_lexer": "ipython3",
   "version": "3.5.2"
  }
 },
 "nbformat": 4,
 "nbformat_minor": 0
}
